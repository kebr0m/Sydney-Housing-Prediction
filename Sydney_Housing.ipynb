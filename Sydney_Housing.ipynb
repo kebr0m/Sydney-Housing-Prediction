{
  "nbformat": 4,
  "nbformat_minor": 0,
  "metadata": {
    "colab": {
      "name": "Sydney-Housing.ipynb",
      "provenance": []
    },
    "kernelspec": {
      "name": "python3",
      "display_name": "Python 3"
    },
    "language_info": {
      "name": "python"
    }
  },
  "cells": [
    {
      "cell_type": "code",
      "metadata": {
        "id": "5xlQJb52AUBC"
      },
      "source": [
        "from google.colab import drive\n",
        "import os\n",
        "drive.mount('drive/')"
      ],
      "execution_count": null,
      "outputs": []
    },
    {
      "cell_type": "code",
      "metadata": {
        "id": "GqF7ORN-FzUt"
      },
      "source": [
        "from google.colab import drive\n",
        "import os\n",
        "drive.mount('drive/')"
      ],
      "execution_count": null,
      "outputs": []
    },
    {
      "cell_type": "code",
      "metadata": {
        "id": "xMytlWBzGiAt"
      },
      "source": [
        "os.chdir('/content/drive/MyDrive/Applied Machine Learning/Sydney-Housing/')"
      ],
      "execution_count": null,
      "outputs": []
    },
    {
      "cell_type": "code",
      "metadata": {
        "id": "l---6FSFGq11"
      },
      "source": [
        "ls "
      ],
      "execution_count": null,
      "outputs": []
    },
    {
      "cell_type": "code",
      "metadata": {
        "id": "PrnPuou1GroF",
        "colab": {
          "base_uri": "https://localhost:8080/"
        },
        "outputId": "7a73468a-e0fa-434b-a43e-1c6248250fde"
      },
      "source": [
        "from sklearn.linear_model import ridge, LogisticRegression\n",
        "from sklearn.model_selection import cross_val_score\n",
        "from sklearn.compose import make_column_transformer\n",
        "from sklearn.pipeline import make_pipeline\n",
        "from sklearn.svm import SVC, LinearSVC\n",
        "from sklearn.neighbors import KNeighborsClassifier, KNeighborsRegressor\n",
        "from sklearn.pipeline import Pipeline\n",
        "from sklearn.datasets import fetch_openml\n",
        "import matplotlib.pyplot as plt\n",
        "import pandas as pd\n",
        "import numpy as np\n",
        "from sklearn.preprocessing import StandardScaler, RobustScaler, OneHotEncoder, OrdinalEncoder, LabelEncoder\n",
        "from sklearn.model_selection import train_test_split, KFold, StratifiedKFold, RepeatedKFold, RepeatedStratifiedKFold, LeaveOneOut, cross_val_score, GridSearchCV, ParameterGrid\n",
        "from sklearn.linear_model import Ridge, LogisticRegression\n",
        "from sklearn.metrics import confusion_matrix\n",
        "import seaborn as sns\n"
      ],
      "execution_count": null,
      "outputs": [
        {
          "output_type": "stream",
          "name": "stderr",
          "text": [
            "/usr/local/lib/python3.7/dist-packages/sklearn/utils/deprecation.py:144: FutureWarning: The sklearn.linear_model.ridge module is  deprecated in version 0.22 and will be removed in version 0.24. The corresponding classes / functions should instead be imported from sklearn.linear_model. Anything that cannot be imported from sklearn.linear_model is now part of the private API.\n",
            "  warnings.warn(message, FutureWarning)\n"
          ]
        }
      ]
    },
    {
      "cell_type": "markdown",
      "metadata": {
        "id": "HWdEaGg6Kmv_"
      },
      "source": [
        "Determination of which features are continuous and which are categorical."
      ]
    },
    {
      "cell_type": "code",
      "metadata": {
        "id": "UhvrbV2WHDVe",
        "colab": {
          "base_uri": "https://localhost:8080/"
        },
        "outputId": "c6ed21b0-54d2-41c7-8929-a7ddf58d8080"
      },
      "source": [
        "# Splitting data into features\n",
        "c_data = fetch_openml('credit-g', version='active')\n",
        "c_data.feature_names"
      ],
      "execution_count": null,
      "outputs": [
        {
          "output_type": "execute_result",
          "data": {
            "text/plain": [
              "['checking_status',\n",
              " 'duration',\n",
              " 'credit_history',\n",
              " 'purpose',\n",
              " 'credit_amount',\n",
              " 'savings_status',\n",
              " 'employment',\n",
              " 'installment_commitment',\n",
              " 'personal_status',\n",
              " 'other_parties',\n",
              " 'residence_since',\n",
              " 'property_magnitude',\n",
              " 'age',\n",
              " 'other_payment_plans',\n",
              " 'housing',\n",
              " 'existing_credits',\n",
              " 'job',\n",
              " 'num_dependents',\n",
              " 'own_telephone',\n",
              " 'foreign_worker']"
            ]
          },
          "metadata": {},
          "execution_count": 8
        }
      ]
    },
    {
      "cell_type": "code",
      "metadata": {
        "id": "tXh_H615KZfm",
        "colab": {
          "base_uri": "https://localhost:8080/"
        },
        "outputId": "9b1d1f20-0cf7-4941-d431-65f913a3ee83"
      },
      "source": [
        "# Splitting data into categories\n",
        "c_data.categories"
      ],
      "execution_count": null,
      "outputs": [
        {
          "output_type": "execute_result",
          "data": {
            "text/plain": [
              "{'checking_status': ['<0', '0<=X<200', '>=200', 'no checking'],\n",
              " 'credit_history': ['no credits/all paid',\n",
              "  'all paid',\n",
              "  'existing paid',\n",
              "  'delayed previously',\n",
              "  'critical/other existing credit'],\n",
              " 'employment': ['unemployed', '<1', '1<=X<4', '4<=X<7', '>=7'],\n",
              " 'foreign_worker': ['yes', 'no'],\n",
              " 'housing': ['rent', 'own', 'for free'],\n",
              " 'job': ['unemp/unskilled non res',\n",
              "  'unskilled resident',\n",
              "  'skilled',\n",
              "  'high qualif/self emp/mgmt'],\n",
              " 'other_parties': ['none', 'co applicant', 'guarantor'],\n",
              " 'other_payment_plans': ['bank', 'stores', 'none'],\n",
              " 'own_telephone': ['none', 'yes'],\n",
              " 'personal_status': ['male div/sep',\n",
              "  'female div/dep/mar',\n",
              "  'male single',\n",
              "  'male mar/wid',\n",
              "  'female single'],\n",
              " 'property_magnitude': ['real estate',\n",
              "  'life insurance',\n",
              "  'car',\n",
              "  'no known property'],\n",
              " 'purpose': ['new car',\n",
              "  'used car',\n",
              "  'furniture/equipment',\n",
              "  'radio/tv',\n",
              "  'domestic appliance',\n",
              "  'repairs',\n",
              "  'education',\n",
              "  'vacation',\n",
              "  'retraining',\n",
              "  'business',\n",
              "  'other'],\n",
              " 'savings_status': ['<100',\n",
              "  '100<=X<500',\n",
              "  '500<=X<1000',\n",
              "  '>=1000',\n",
              "  'no known savings']}"
            ]
          },
          "metadata": {},
          "execution_count": 9
        }
      ]
    },
    {
      "cell_type": "markdown",
      "metadata": {
        "id": "B95KnpgLeLQ6"
      },
      "source": [
        "Visualization of the univariate distribution of each continuous feature, and the distribution of the target."
      ]
    },
    {
      "cell_type": "code",
      "metadata": {
        "id": "q3RFlklYLKDQ",
        "colab": {
          "base_uri": "https://localhost:8080/",
          "height": 226
        },
        "outputId": "ed47c8bb-5ed0-47e5-f7e3-d9cfb416c601"
      },
      "source": [
        "# Essentially questions that can be answered with a simple yes or no excluding integers would be classified as categorical, everything else that involves integers would be classified as continuous\n",
        "# I will now plot the data frame  for features\n",
        "c_dataframe = pd.DataFrame(c_data.data,columns=c_data.feature_names)\n",
        "c_dataframe['class'] = c_data.target\n",
        "c_dataframe.head()\n"
      ],
      "execution_count": null,
      "outputs": [
        {
          "output_type": "execute_result",
          "data": {
            "text/html": [
              "<div>\n",
              "<style scoped>\n",
              "    .dataframe tbody tr th:only-of-type {\n",
              "        vertical-align: middle;\n",
              "    }\n",
              "\n",
              "    .dataframe tbody tr th {\n",
              "        vertical-align: top;\n",
              "    }\n",
              "\n",
              "    .dataframe thead th {\n",
              "        text-align: right;\n",
              "    }\n",
              "</style>\n",
              "<table border=\"1\" class=\"dataframe\">\n",
              "  <thead>\n",
              "    <tr style=\"text-align: right;\">\n",
              "      <th></th>\n",
              "      <th>checking_status</th>\n",
              "      <th>duration</th>\n",
              "      <th>credit_history</th>\n",
              "      <th>purpose</th>\n",
              "      <th>credit_amount</th>\n",
              "      <th>savings_status</th>\n",
              "      <th>employment</th>\n",
              "      <th>installment_commitment</th>\n",
              "      <th>personal_status</th>\n",
              "      <th>other_parties</th>\n",
              "      <th>residence_since</th>\n",
              "      <th>property_magnitude</th>\n",
              "      <th>age</th>\n",
              "      <th>other_payment_plans</th>\n",
              "      <th>housing</th>\n",
              "      <th>existing_credits</th>\n",
              "      <th>job</th>\n",
              "      <th>num_dependents</th>\n",
              "      <th>own_telephone</th>\n",
              "      <th>foreign_worker</th>\n",
              "      <th>class</th>\n",
              "    </tr>\n",
              "  </thead>\n",
              "  <tbody>\n",
              "    <tr>\n",
              "      <th>0</th>\n",
              "      <td>0.0</td>\n",
              "      <td>6.0</td>\n",
              "      <td>4.0</td>\n",
              "      <td>3.0</td>\n",
              "      <td>1169.0</td>\n",
              "      <td>4.0</td>\n",
              "      <td>4.0</td>\n",
              "      <td>4.0</td>\n",
              "      <td>2.0</td>\n",
              "      <td>0.0</td>\n",
              "      <td>4.0</td>\n",
              "      <td>0.0</td>\n",
              "      <td>67.0</td>\n",
              "      <td>2.0</td>\n",
              "      <td>1.0</td>\n",
              "      <td>2.0</td>\n",
              "      <td>2.0</td>\n",
              "      <td>1.0</td>\n",
              "      <td>1.0</td>\n",
              "      <td>0.0</td>\n",
              "      <td>good</td>\n",
              "    </tr>\n",
              "    <tr>\n",
              "      <th>1</th>\n",
              "      <td>1.0</td>\n",
              "      <td>48.0</td>\n",
              "      <td>2.0</td>\n",
              "      <td>3.0</td>\n",
              "      <td>5951.0</td>\n",
              "      <td>0.0</td>\n",
              "      <td>2.0</td>\n",
              "      <td>2.0</td>\n",
              "      <td>1.0</td>\n",
              "      <td>0.0</td>\n",
              "      <td>2.0</td>\n",
              "      <td>0.0</td>\n",
              "      <td>22.0</td>\n",
              "      <td>2.0</td>\n",
              "      <td>1.0</td>\n",
              "      <td>1.0</td>\n",
              "      <td>2.0</td>\n",
              "      <td>1.0</td>\n",
              "      <td>0.0</td>\n",
              "      <td>0.0</td>\n",
              "      <td>bad</td>\n",
              "    </tr>\n",
              "    <tr>\n",
              "      <th>2</th>\n",
              "      <td>3.0</td>\n",
              "      <td>12.0</td>\n",
              "      <td>4.0</td>\n",
              "      <td>6.0</td>\n",
              "      <td>2096.0</td>\n",
              "      <td>0.0</td>\n",
              "      <td>3.0</td>\n",
              "      <td>2.0</td>\n",
              "      <td>2.0</td>\n",
              "      <td>0.0</td>\n",
              "      <td>3.0</td>\n",
              "      <td>0.0</td>\n",
              "      <td>49.0</td>\n",
              "      <td>2.0</td>\n",
              "      <td>1.0</td>\n",
              "      <td>1.0</td>\n",
              "      <td>1.0</td>\n",
              "      <td>2.0</td>\n",
              "      <td>0.0</td>\n",
              "      <td>0.0</td>\n",
              "      <td>good</td>\n",
              "    </tr>\n",
              "    <tr>\n",
              "      <th>3</th>\n",
              "      <td>0.0</td>\n",
              "      <td>42.0</td>\n",
              "      <td>2.0</td>\n",
              "      <td>2.0</td>\n",
              "      <td>7882.0</td>\n",
              "      <td>0.0</td>\n",
              "      <td>3.0</td>\n",
              "      <td>2.0</td>\n",
              "      <td>2.0</td>\n",
              "      <td>2.0</td>\n",
              "      <td>4.0</td>\n",
              "      <td>1.0</td>\n",
              "      <td>45.0</td>\n",
              "      <td>2.0</td>\n",
              "      <td>2.0</td>\n",
              "      <td>1.0</td>\n",
              "      <td>2.0</td>\n",
              "      <td>2.0</td>\n",
              "      <td>0.0</td>\n",
              "      <td>0.0</td>\n",
              "      <td>good</td>\n",
              "    </tr>\n",
              "    <tr>\n",
              "      <th>4</th>\n",
              "      <td>0.0</td>\n",
              "      <td>24.0</td>\n",
              "      <td>3.0</td>\n",
              "      <td>0.0</td>\n",
              "      <td>4870.0</td>\n",
              "      <td>0.0</td>\n",
              "      <td>2.0</td>\n",
              "      <td>3.0</td>\n",
              "      <td>2.0</td>\n",
              "      <td>0.0</td>\n",
              "      <td>4.0</td>\n",
              "      <td>3.0</td>\n",
              "      <td>53.0</td>\n",
              "      <td>2.0</td>\n",
              "      <td>2.0</td>\n",
              "      <td>2.0</td>\n",
              "      <td>2.0</td>\n",
              "      <td>2.0</td>\n",
              "      <td>0.0</td>\n",
              "      <td>0.0</td>\n",
              "      <td>bad</td>\n",
              "    </tr>\n",
              "  </tbody>\n",
              "</table>\n",
              "</div>"
            ],
            "text/plain": [
              "   checking_status  duration  ...  foreign_worker  class\n",
              "0              0.0       6.0  ...             0.0   good\n",
              "1              1.0      48.0  ...             0.0    bad\n",
              "2              3.0      12.0  ...             0.0   good\n",
              "3              0.0      42.0  ...             0.0   good\n",
              "4              0.0      24.0  ...             0.0    bad\n",
              "\n",
              "[5 rows x 21 columns]"
            ]
          },
          "metadata": {},
          "execution_count": 10
        }
      ]
    },
    {
      "cell_type": "code",
      "metadata": {
        "id": "LbRKipGHSx4m"
      },
      "source": [
        "# Now that I have plotted all features, I will define all continuous functions so I can plot it seperately\n",
        "num_dep_data = c_dataframe ['num_dependents']\n",
        "dur_data = c_dataframe ['duration']\n",
        "crd_amt_data = c_dataframe ['credit_amount']\n",
        "age_data = c_dataframe ['age']\n",
        "exs_credits_data = c_dataframe ['existing_credits']\n",
        "ins_com_data = c_dataframe ['installment_commitment']\n",
        "res_sin_data = c_dataframe ['residence_since']"
      ],
      "execution_count": null,
      "outputs": []
    },
    {
      "cell_type": "code",
      "metadata": {
        "id": "dwSFnZ7dYkPt",
        "colab": {
          "base_uri": "https://localhost:8080/",
          "height": 1000
        },
        "outputId": "60b7b476-4c0e-40d8-8195-57abdf59de6b"
      },
      "source": [
        "plt.figure(figsize=(10,30))\n",
        "\n",
        "# Plots for each Continuous item\n",
        "# Duration Plot \n",
        "ax11 = plt.subplot(14,1,1)\n",
        "ax11.boxplot(dur_data, vert=False)\n",
        "ax11.set_yticklabels(['Duration'])\n",
        "\n",
        "ax12 = plt.subplot(14,1,2)\n",
        "ax12.hist(dur_data,bins=20)\n",
        "ax12.set_xlabel('Duration')\n",
        "\n",
        "# Credit_Amount Plot\n",
        "ax13 = plt.subplot(14,1,3)\n",
        "ax13.boxplot(crd_amt_data, vert=False)\n",
        "ax13.set_yticklabels(['Credit Amount'])\n",
        "\n",
        "ax13 = plt.subplot(14,1,4)\n",
        "ax13.hist(crd_amt_data,bins=20)\n",
        "ax13.set_xlabel('Credit Amount')\n",
        "\n",
        "# Num_Dependent Plot\n",
        "ax14 = plt.subplot(14,1,5)\n",
        "ax14.boxplot(dur_data, vert=False)\n",
        "ax14.set_yticklabels(['Num Dependents'])\n",
        "\n",
        "ax14 = plt.subplot(14,1,6)\n",
        "ax14.hist(dur_data,bins=20)\n",
        "ax14.set_xlabel('Num Dependents')\n",
        "\n",
        "# Residence_Since Plot\n",
        "ax15 = plt.subplot(14,1,7)\n",
        "ax15.boxplot(dur_data, vert=False)\n",
        "ax15.set_yticklabels(['Residence Since'])\n",
        "\n",
        "ax15 = plt.subplot(14,1,8)\n",
        "ax15.hist(dur_data, bins = 10)\n",
        "ax15.set_xlabel('Residence Since')\n",
        "\n",
        "# Age Plot\n",
        "ax16 = plt.subplot(14,1,9)\n",
        "ax16.boxplot(dur_data, vert=False)\n",
        "ax16.set_yticklabels(['Age'])\n",
        "\n",
        "ax16 = plt.subplot(14,1,10)\n",
        "ax16.hist(dur_data, bins=20)\n",
        "ax16.set_xlabel('Age')\n",
        "\n",
        "# Existing Credits \n",
        "ax17 = plt.subplot(14,1,11)\n",
        "ax17.boxplot(dur_data, vert=False)\n",
        "ax17.set_yticklabels(['Existing Credits'])\n",
        "\n",
        "ax17 = plt.subplot(14,1,12)\n",
        "ax17.hist(dur_data, bins=20)\n",
        "ax17.set_xlabel('Existing Credits')\n",
        "\n",
        "# Installment Commitment\n",
        "ax18 = plt.subplot(14,1,13)\n",
        "ax18.boxplot(dur_data, vert=False)\n",
        "ax18.set_yticklabels(['Installment Commitment'])\n",
        "\n",
        "ax18 = plt.subplot(14,1,14)\n",
        "ax18.hist(dur_data, bins=20)\n",
        "ax18.set_xlabel('Installment Commitment')\n",
        "\n",
        "\n",
        "\n",
        "plt.subplots_adjust(top=2, bottom=0.004)\n",
        "\n",
        "plt.show"
      ],
      "execution_count": null,
      "outputs": [
        {
          "output_type": "execute_result",
          "data": {
            "text/plain": [
              "<function matplotlib.pyplot.show>"
            ]
          },
          "metadata": {},
          "execution_count": 12
        },
        {
          "output_type": "display_data",
          "data": {
            "image/png": "[encoded data removed]",
            "text/plain": [
              "<Figure size 720x2160 with 14 Axes>"
            ]
          },
          "metadata": {
            "needs_background": "light"
          }
        }
      ]
    },
    {
      "cell_type": "code",
      "metadata": {
        "id": "32IO6AOib-HU",
        "colab": {
          "base_uri": "https://localhost:8080/",
          "height": 623
        },
        "outputId": "5ae60da3-642a-4c4c-98c4-8fc5f02b6740"
      },
      "source": [
        "#I will now plot the target data\n",
        "class_ = c_dataframe['class']\n",
        "num_good = class_[class_ == 'good']\n",
        "num_bad = class_[class_ == 'bad']\n",
        "labels = ['Good', 'Bad']\n",
        "y_pos = np.arange(2)\n",
        "x_values = [len(num_good), len(num_bad)]\n",
        "plt.figure(figsize=(10, 10))\n",
        "plt.bar(y_pos, x_values)\n",
        "plt.xticks(np.arange(2), ('Good', 'Bad'))\n",
        "plt.xlabel('Class')"
      ],
      "execution_count": null,
      "outputs": [
        {
          "output_type": "execute_result",
          "data": {
            "text/plain": [
              "Text(0.5, 0, 'Class')"
            ]
          },
          "metadata": {},
          "execution_count": 13
        },
        {
          "output_type": "display_data",
          "data": {
            "image/png": "[encoded data removed]",
            "text/plain": [
              "<Figure size 720x720 with 1 Axes>"
            ]
          },
          "metadata": {
            "needs_background": "light"
          }
        }
      ]
    },
    {
      "cell_type": "markdown",
      "metadata": {
        "id": "Z6sVVrNog0Xr"
      },
      "source": [
        "Creating training and test splits"
      ]
    },
    {
      "cell_type": "code",
      "metadata": {
        "id": "BcD9RHLyfKHT"
      },
      "source": [
        "# This is where I will pre-process the data\n",
        "# Defining categorical features, and using as_frame to convert the dataset to a dataframe\n",
        "c_dataX, c_datay, = fetch_openml('credit-g', version='active', as_frame=True, return_X_y=True)\n",
        "categorical_features = ['checking_status', 'credit_history', 'employment', 'foreign_worker',\n",
        "'housing',\n",
        "'job',\n",
        "'other_parties',\n",
        "'other_payment_plans',\n",
        "'own_telephone',\n",
        "'personal_status',\n",
        "'property_magnitude',\n",
        "'purpose',\n",
        "'savings_status']\n",
        "# I will now use .iteritems to print the specific columns and use .cat.codes to convert categorical variables to numbers. This will enforce order on the following categories\n",
        "c_dataX_ordinal = c_dataX.copy()\n",
        "for feature in c_dataX.iteritems():\n",
        "    if feature[0] in categorical_features:\n",
        "        c_dataX_ordinal[feature[0]] = c_dataX[feature[0]].astype(\"category\").cat.codes"
      ],
      "execution_count": null,
      "outputs": []
    },
    {
      "cell_type": "code",
      "metadata": {
        "colab": {
          "base_uri": "https://localhost:8080/",
          "height": 226
        },
        "id": "s1rnWlqVnHDa",
        "outputId": "cebd0f5c-14f2-40e0-bdd9-c9bb1f1f54af"
      },
      "source": [
        "c_dataX_ordinal.head()"
      ],
      "execution_count": null,
      "outputs": [
        {
          "output_type": "execute_result",
          "data": {
            "text/html": [
              "<div>\n",
              "<style scoped>\n",
              "    .dataframe tbody tr th:only-of-type {\n",
              "        vertical-align: middle;\n",
              "    }\n",
              "\n",
              "    .dataframe tbody tr th {\n",
              "        vertical-align: top;\n",
              "    }\n",
              "\n",
              "    .dataframe thead th {\n",
              "        text-align: right;\n",
              "    }\n",
              "</style>\n",
              "<table border=\"1\" class=\"dataframe\">\n",
              "  <thead>\n",
              "    <tr style=\"text-align: right;\">\n",
              "      <th></th>\n",
              "      <th>checking_status</th>\n",
              "      <th>duration</th>\n",
              "      <th>credit_history</th>\n",
              "      <th>purpose</th>\n",
              "      <th>credit_amount</th>\n",
              "      <th>savings_status</th>\n",
              "      <th>employment</th>\n",
              "      <th>installment_commitment</th>\n",
              "      <th>personal_status</th>\n",
              "      <th>other_parties</th>\n",
              "      <th>residence_since</th>\n",
              "      <th>property_magnitude</th>\n",
              "      <th>age</th>\n",
              "      <th>other_payment_plans</th>\n",
              "      <th>housing</th>\n",
              "      <th>existing_credits</th>\n",
              "      <th>job</th>\n",
              "      <th>num_dependents</th>\n",
              "      <th>own_telephone</th>\n",
              "      <th>foreign_worker</th>\n",
              "    </tr>\n",
              "  </thead>\n",
              "  <tbody>\n",
              "    <tr>\n",
              "      <th>0</th>\n",
              "      <td>0</td>\n",
              "      <td>6.0</td>\n",
              "      <td>4</td>\n",
              "      <td>3</td>\n",
              "      <td>1169.0</td>\n",
              "      <td>4</td>\n",
              "      <td>4</td>\n",
              "      <td>4.0</td>\n",
              "      <td>2</td>\n",
              "      <td>0</td>\n",
              "      <td>4.0</td>\n",
              "      <td>0</td>\n",
              "      <td>67.0</td>\n",
              "      <td>2</td>\n",
              "      <td>1</td>\n",
              "      <td>2.0</td>\n",
              "      <td>2</td>\n",
              "      <td>1.0</td>\n",
              "      <td>1</td>\n",
              "      <td>0</td>\n",
              "    </tr>\n",
              "    <tr>\n",
              "      <th>1</th>\n",
              "      <td>1</td>\n",
              "      <td>48.0</td>\n",
              "      <td>2</td>\n",
              "      <td>3</td>\n",
              "      <td>5951.0</td>\n",
              "      <td>0</td>\n",
              "      <td>2</td>\n",
              "      <td>2.0</td>\n",
              "      <td>1</td>\n",
              "      <td>0</td>\n",
              "      <td>2.0</td>\n",
              "      <td>0</td>\n",
              "      <td>22.0</td>\n",
              "      <td>2</td>\n",
              "      <td>1</td>\n",
              "      <td>1.0</td>\n",
              "      <td>2</td>\n",
              "      <td>1.0</td>\n",
              "      <td>0</td>\n",
              "      <td>0</td>\n",
              "    </tr>\n",
              "    <tr>\n",
              "      <th>2</th>\n",
              "      <td>3</td>\n",
              "      <td>12.0</td>\n",
              "      <td>4</td>\n",
              "      <td>6</td>\n",
              "      <td>2096.0</td>\n",
              "      <td>0</td>\n",
              "      <td>3</td>\n",
              "      <td>2.0</td>\n",
              "      <td>2</td>\n",
              "      <td>0</td>\n",
              "      <td>3.0</td>\n",
              "      <td>0</td>\n",
              "      <td>49.0</td>\n",
              "      <td>2</td>\n",
              "      <td>1</td>\n",
              "      <td>1.0</td>\n",
              "      <td>1</td>\n",
              "      <td>2.0</td>\n",
              "      <td>0</td>\n",
              "      <td>0</td>\n",
              "    </tr>\n",
              "    <tr>\n",
              "      <th>3</th>\n",
              "      <td>0</td>\n",
              "      <td>42.0</td>\n",
              "      <td>2</td>\n",
              "      <td>2</td>\n",
              "      <td>7882.0</td>\n",
              "      <td>0</td>\n",
              "      <td>3</td>\n",
              "      <td>2.0</td>\n",
              "      <td>2</td>\n",
              "      <td>2</td>\n",
              "      <td>4.0</td>\n",
              "      <td>1</td>\n",
              "      <td>45.0</td>\n",
              "      <td>2</td>\n",
              "      <td>2</td>\n",
              "      <td>1.0</td>\n",
              "      <td>2</td>\n",
              "      <td>2.0</td>\n",
              "      <td>0</td>\n",
              "      <td>0</td>\n",
              "    </tr>\n",
              "    <tr>\n",
              "      <th>4</th>\n",
              "      <td>0</td>\n",
              "      <td>24.0</td>\n",
              "      <td>3</td>\n",
              "      <td>0</td>\n",
              "      <td>4870.0</td>\n",
              "      <td>0</td>\n",
              "      <td>2</td>\n",
              "      <td>3.0</td>\n",
              "      <td>2</td>\n",
              "      <td>0</td>\n",
              "      <td>4.0</td>\n",
              "      <td>3</td>\n",
              "      <td>53.0</td>\n",
              "      <td>2</td>\n",
              "      <td>2</td>\n",
              "      <td>2.0</td>\n",
              "      <td>2</td>\n",
              "      <td>2.0</td>\n",
              "      <td>0</td>\n",
              "      <td>0</td>\n",
              "    </tr>\n",
              "  </tbody>\n",
              "</table>\n",
              "</div>"
            ],
            "text/plain": [
              "   checking_status  duration  ...  own_telephone  foreign_worker\n",
              "0                0       6.0  ...              1               0\n",
              "1                1      48.0  ...              0               0\n",
              "2                3      12.0  ...              0               0\n",
              "3                0      42.0  ...              0               0\n",
              "4                0      24.0  ...              0               0\n",
              "\n",
              "[5 rows x 20 columns]"
            ]
          },
          "metadata": {},
          "execution_count": 15
        }
      ]
    },
    {
      "cell_type": "code",
      "metadata": {
        "id": "1KAKJ7o-nrKv"
      },
      "source": [
        "# I will now do label encoding on the target\n",
        "label_encoding = LabelEncoder ()\n",
        "y = label_encoding.fit_transform(c_datay)"
      ],
      "execution_count": null,
      "outputs": []
    },
    {
      "cell_type": "code",
      "metadata": {
        "id": "X3kp4O9ZoaER"
      },
      "source": [
        "# Now I will do both training and test splits using threefold split\n",
        "X_trainval, X_test, y_trainval, y_test, = train_test_split(c_dataX_ordinal,y)\n",
        "X_train, X_val, y_train, y_val = train_test_split(X_trainval,y_trainval)\n"
      ],
      "execution_count": null,
      "outputs": []
    },
    {
      "cell_type": "code",
      "metadata": {
        "id": "jzONTOVqrcTx"
      },
      "source": [
        "numeric_features = [feature for feature in c_data.feature_names if feature not in categorical_features]"
      ],
      "execution_count": null,
      "outputs": []
    },
    {
      "cell_type": "code",
      "metadata": {
        "colab": {
          "base_uri": "https://localhost:8080/"
        },
        "id": "2w4upyg7sOqf",
        "outputId": "612aa0e6-1dd4-4a7d-9fec-40b3553705ae"
      },
      "source": [
        "scaler = StandardScaler()\n",
        "X_train_scaled = X_train\n",
        "X_train_scaled[numeric_features] = scaler.fit_transform(X_train_scaled[numeric_features])\n",
        "\n",
        "X_val_scaled = X_val\n",
        "X_val_scaled[numeric_features] = scaler.fit_transform(X_val_scaled[numeric_features])\n",
        "\n",
        "logistic_regression = LogisticRegression().fit(X_train, y_train)\n",
        "logistic_regression.predict(X_val)\n",
        "logistic_regression.score(X_val, y_val)"
      ],
      "execution_count": null,
      "outputs": [
        {
          "output_type": "stream",
          "name": "stderr",
          "text": [
            "/usr/local/lib/python3.7/dist-packages/ipykernel_launcher.py:3: SettingWithCopyWarning: \n",
            "A value is trying to be set on a copy of a slice from a DataFrame.\n",
            "Try using .loc[row_indexer,col_indexer] = value instead\n",
            "\n",
            "See the caveats in the documentation: https://pandas.pydata.org/pandas-docs/stable/user_guide/indexing.html#returning-a-view-versus-a-copy\n",
            "  This is separate from the ipykernel package so we can avoid doing imports until\n",
            "/usr/local/lib/python3.7/dist-packages/pandas/core/indexing.py:1734: SettingWithCopyWarning: \n",
            "A value is trying to be set on a copy of a slice from a DataFrame.\n",
            "Try using .loc[row_indexer,col_indexer] = value instead\n",
            "\n",
            "See the caveats in the documentation: https://pandas.pydata.org/pandas-docs/stable/user_guide/indexing.html#returning-a-view-versus-a-copy\n",
            "  isetter(loc, value[:, i].tolist())\n",
            "/usr/local/lib/python3.7/dist-packages/ipykernel_launcher.py:6: SettingWithCopyWarning: \n",
            "A value is trying to be set on a copy of a slice from a DataFrame.\n",
            "Try using .loc[row_indexer,col_indexer] = value instead\n",
            "\n",
            "See the caveats in the documentation: https://pandas.pydata.org/pandas-docs/stable/user_guide/indexing.html#returning-a-view-versus-a-copy\n",
            "  \n",
            "/usr/local/lib/python3.7/dist-packages/pandas/core/indexing.py:1734: SettingWithCopyWarning: \n",
            "A value is trying to be set on a copy of a slice from a DataFrame.\n",
            "Try using .loc[row_indexer,col_indexer] = value instead\n",
            "\n",
            "See the caveats in the documentation: https://pandas.pydata.org/pandas-docs/stable/user_guide/indexing.html#returning-a-view-versus-a-copy\n",
            "  isetter(loc, value[:, i].tolist())\n"
          ]
        },
        {
          "output_type": "execute_result",
          "data": {
            "text/plain": [
              "0.75"
            ]
          },
          "metadata": {},
          "execution_count": 19
        }
      ]
    },
    {
      "cell_type": "markdown",
      "metadata": {
        "id": "gJGU8s20beh-"
      },
      "source": [
        "Using ColumnTransformer and pipeline to encode categorical variables "
      ]
    },
    {
      "cell_type": "code",
      "metadata": {
        "id": "saSkdduDswwI"
      },
      "source": [
        "# As assigned I will now use the pipeline method to encode variable\n",
        "X_trainval_pipe, X_test_pipe, y_trainval_pipe, y_test_pipe = train_test_split(c_dataX, c_datay)\n",
        "\n",
        "# I will now use the Stratified Kfold method as we do have predefined classes\n",
        "stratified_kf = StratifiedKFold(n_splits=5, shuffle=True)\n"
      ],
      "execution_count": null,
      "outputs": []
    },
    {
      "cell_type": "markdown",
      "metadata": {
        "id": "-PmGpVBWyQeX"
      },
      "source": [
        "KNN\n"
      ]
    },
    {
      "cell_type": "code",
      "metadata": {
        "colab": {
          "base_uri": "https://localhost:8080/"
        },
        "id": "DYqPWlJ8uj3o",
        "outputId": "4a955da5-126f-48b1-a487-ae10f6c4fe11"
      },
      "source": [
        "# Testing different methods with scaling my data and without scaling my data\n",
        "\n",
        "# KNN\n",
        "prep_knn = make_column_transformer(\n",
        "    (OneHotEncoder(), categorical_features))\n",
        "model_knn = make_pipeline(prep_knn, KNeighborsClassifier())\n",
        "model_knn.fit(X_trainval_pipe, y_trainval_pipe)\n",
        "scores_knn = cross_val_score(model_knn, X_trainval_pipe, y_trainval_pipe, cv=stratified_kf, scoring='accuracy')\n",
        "print(\"score: {:.3f}\".format(np.mean(scores_knn)))"
      ],
      "execution_count": null,
      "outputs": [
        {
          "output_type": "stream",
          "name": "stdout",
          "text": [
            "score: 0.709\n"
          ]
        }
      ]
    },
    {
      "cell_type": "code",
      "metadata": {
        "colab": {
          "base_uri": "https://localhost:8080/"
        },
        "id": "iQzDLwvqc-XO",
        "outputId": "fbaa9e20-be82-4517-f937-a0f3e7538470"
      },
      "source": [
        "# KNN Scaled\n",
        "prep_knns = make_column_transformer(\n",
        "    (StandardScaler(),numeric_features),\n",
        "    (OneHotEncoder(), categorical_features))\n",
        "model_knns = make_pipeline(prep_knns, KNeighborsClassifier())\n",
        "model_knns.fit(X_trainval_pipe, y_trainval_pipe)\n",
        "scores_knns = cross_val_score(model_knns, X_trainval_pipe, y_trainval_pipe, cv=stratified_kf, scoring='accuracy')\n",
        "print(\"score: {:.3f}\" .format(np.mean(scores_knns)))\n",
        "                                   "
      ],
      "execution_count": null,
      "outputs": [
        {
          "output_type": "stream",
          "name": "stdout",
          "text": [
            "score: 0.736\n"
          ]
        }
      ]
    },
    {
      "cell_type": "markdown",
      "metadata": {
        "id": "EKEFdC8fbiBD"
      },
      "source": [
        "Logistic Regressions \n"
      ]
    },
    {
      "cell_type": "code",
      "metadata": {
        "colab": {
          "base_uri": "https://localhost:8080/"
        },
        "id": "BXZ3p-9dbG3v",
        "outputId": "a90086d9-bcdb-4160-8e6a-22391ca0c02f"
      },
      "source": [
        "# Logistic Regressions\n",
        "prep_lr = make_column_transformer(\n",
        "    (OneHotEncoder(), categorical_features))\n",
        "model_lr = make_pipeline(prep_lr, LogisticRegression())\n",
        "model_lr.fit(X_trainval_pipe, y_trainval_pipe)\n",
        "scores_lr = cross_val_score(model_lr, X_trainval_pipe, y_trainval_pipe, cv=stratified_kf, scoring = 'accuracy')\n",
        "print(\"score: {:.3f}\" .format(np.mean(scores_lr)))\n"
      ],
      "execution_count": null,
      "outputs": [
        {
          "output_type": "stream",
          "name": "stdout",
          "text": [
            "score: 0.729\n"
          ]
        }
      ]
    },
    {
      "cell_type": "code",
      "metadata": {
        "colab": {
          "base_uri": "https://localhost:8080/"
        },
        "id": "VSD7lVNRhZ-U",
        "outputId": "efa8dd00-15ae-44aa-951d-6065ae24b55f"
      },
      "source": [
        "# Logistic Regressions Scaled\n",
        "prep_lrs = make_column_transformer(\n",
        "    (StandardScaler(), numeric_features),\n",
        "    (OneHotEncoder(), categorical_features))\n",
        "model_lrs = make_pipeline(prep_lrs, LogisticRegression())\n",
        "model_lrs.fit(X_trainval_pipe, y_trainval_pipe)\n",
        "scores_lrs = cross_val_score(model_lrs, X_trainval_pipe, y_trainval_pipe, cv=stratified_kf, scoring = 'accuracy')\n",
        "print(\"score: {:.3f}\" .format(np.mean(scores_lrs)))\n"
      ],
      "execution_count": null,
      "outputs": [
        {
          "output_type": "stream",
          "name": "stdout",
          "text": [
            "score: 0.735\n"
          ]
        }
      ]
    },
    {
      "cell_type": "markdown",
      "metadata": {
        "id": "cUVlKerj5-38"
      },
      "source": [
        "Linear Scaling Vectors\n"
      ]
    },
    {
      "cell_type": "code",
      "metadata": {
        "colab": {
          "base_uri": "https://localhost:8080/"
        },
        "id": "Wa7ThKCV4pU0",
        "outputId": "8a88f2f1-4dda-47db-a907-c8a1e86ad8d9"
      },
      "source": [
        "# Linear Scaling Vector\n",
        "prep_lsv = make_column_transformer(\n",
        "    (OneHotEncoder(), categorical_features))\n",
        "model_lsv = make_pipeline(prep_lsv, LinearSVC())\n",
        "model_lsv.fit(X_trainval_pipe, y_trainval_pipe)\n",
        "scores_lsv = cross_val_score(model_lsv, X_trainval_pipe, y_trainval_pipe, cv = stratified_kf, scoring='accuracy')\n",
        "print(\"score: {:.3f}\" .format(np.mean(scores_lsv)))"
      ],
      "execution_count": null,
      "outputs": [
        {
          "output_type": "stream",
          "name": "stdout",
          "text": [
            "score: 0.717\n"
          ]
        }
      ]
    },
    {
      "cell_type": "code",
      "metadata": {
        "colab": {
          "base_uri": "https://localhost:8080/"
        },
        "id": "Ys-eeaAF8Sk7",
        "outputId": "87b7599d-f6dc-4e58-f773-7c56976abfae"
      },
      "source": [
        "# Linear Scaling Vector Scaled\n",
        "prep_lsvs = make_column_transformer(\n",
        "    (StandardScaler(), numeric_features),\n",
        "    (OneHotEncoder(), categorical_features))\n",
        "model_lsvs = make_pipeline(prep_lsvs, LinearSVC(max_iter=5000))\n",
        "model_lsvs.fit(X_trainval_pipe, y_trainval_pipe)\n",
        "scores_lsvs = cross_val_score(model_lsvs, X_trainval_pipe, y_trainval_pipe, cv=stratified_kf, scoring = 'accuracy')\n",
        "print(\"score: {:.3f}\" .format(np.mean(scores_lsvs)))"
      ],
      "execution_count": null,
      "outputs": [
        {
          "output_type": "stream",
          "name": "stdout",
          "text": [
            "score: 0.748\n"
          ]
        }
      ]
    },
    {
      "cell_type": "markdown",
      "metadata": {
        "id": "pdFXfLLl96ut"
      },
      "source": [
        "Tuning the parameters using GridSearchCV\n"
      ]
    },
    {
      "cell_type": "code",
      "metadata": {
        "id": "6xC7zHUgLrpT"
      },
      "source": [
        "X_trainval, X_test, y_trainval, y_test, = train_test_split(c_dataX_ordinal, y)"
      ],
      "execution_count": null,
      "outputs": []
    },
    {
      "cell_type": "code",
      "metadata": {
        "id": "-UDs-dPZ9_2J",
        "colab": {
          "base_uri": "https://localhost:8080/"
        },
        "outputId": "f842d19e-163b-45ed-cbb1-a2d4c1d864d5"
      },
      "source": [
        "# KNN Tuned\n",
        "knn_pipe = make_pipeline(StandardScaler(),KNeighborsClassifier())\n",
        "param_grid = {'kneighborsclassifier__n_neighbors': range(10, 20)}\n",
        "grid = GridSearchCV(knn_pipe, param_grid, cv=stratified_kf, scoring='accuracy', return_train_score=True)\n",
        "grid.fit(X_train, y_train)\n",
        "print(\"best mean cross-validation score: {:.3f}\".format(grid.best_score_))\n",
        "print(\"best parameters: {}\".format(grid.best_params_))"
      ],
      "execution_count": null,
      "outputs": [
        {
          "output_type": "stream",
          "name": "stdout",
          "text": [
            "best mean cross-validation score: 0.746\n",
            "best parameters: {'kneighborsclassifier__n_neighbors': 10}\n"
          ]
        }
      ]
    },
    {
      "cell_type": "code",
      "metadata": {
        "colab": {
          "base_uri": "https://localhost:8080/"
        },
        "id": "JykBQXqgOZ0E",
        "outputId": "54c9f788-8ac0-46c7-b428-3c7e9f60597a"
      },
      "source": [
        "# Plugging Tuned Parameters into original KNN pipeline \n",
        "preprocess_knns = make_column_transformer(\n",
        "    (StandardScaler(), numeric_features),\n",
        "    (OneHotEncoder(), categorical_features))\n",
        "model_knns = make_pipeline(preprocess_knns, KNeighborsClassifier(n_neighbors=10))\n",
        "model_knns.fit(X_trainval_pipe, y_trainval_pipe)\n",
        "scores_knns = cross_val_score(model_knns, X_trainval_pipe, y_trainval_pipe, cv=stratified_kf, scoring='accuracy')\n",
        "print(\"score: {:.3f}\".format(np.mean(scores_knns)))"
      ],
      "execution_count": null,
      "outputs": [
        {
          "output_type": "stream",
          "name": "stdout",
          "text": [
            "score: 0.732\n"
          ]
        }
      ]
    },
    {
      "cell_type": "code",
      "metadata": {
        "id": "3o2RYq7mT3pz",
        "colab": {
          "base_uri": "https://localhost:8080/"
        },
        "outputId": "d840445f-d44e-45eb-d92f-bf1814c91ad6"
      },
      "source": [
        "# SVC Tuned\n",
        "svc_pipe = make_pipeline(StandardScaler(), LinearSVC())\n",
        "param_grid = {'linearsvc__C': np.logspace(-10, 5, 20)}\n",
        "grid_svc = GridSearchCV(svc_pipe, param_grid, cv=stratified_kf, scoring='accuracy', return_train_score=True)\n",
        "grid_svc.fit(X_trainval, y_trainval)\n",
        "print(\"best mean cross-validation score: {:.3f}\".format(grid_svc.best_score_))\n",
        "print(\"best parameters: {}\".format(grid_svc.best_params_))"
      ],
      "execution_count": null,
      "outputs": [
        {
          "output_type": "stream",
          "name": "stderr",
          "text": [
            "/usr/local/lib/python3.7/dist-packages/sklearn/svm/_base.py:947: ConvergenceWarning: Liblinear failed to converge, increase the number of iterations.\n",
            "  \"the number of iterations.\", ConvergenceWarning)\n",
            "/usr/local/lib/python3.7/dist-packages/sklearn/svm/_base.py:947: ConvergenceWarning: Liblinear failed to converge, increase the number of iterations.\n",
            "  \"the number of iterations.\", ConvergenceWarning)\n",
            "/usr/local/lib/python3.7/dist-packages/sklearn/svm/_base.py:947: ConvergenceWarning: Liblinear failed to converge, increase the number of iterations.\n",
            "  \"the number of iterations.\", ConvergenceWarning)\n",
            "/usr/local/lib/python3.7/dist-packages/sklearn/svm/_base.py:947: ConvergenceWarning: Liblinear failed to converge, increase the number of iterations.\n",
            "  \"the number of iterations.\", ConvergenceWarning)\n",
            "/usr/local/lib/python3.7/dist-packages/sklearn/svm/_base.py:947: ConvergenceWarning: Liblinear failed to converge, increase the number of iterations.\n",
            "  \"the number of iterations.\", ConvergenceWarning)\n",
            "/usr/local/lib/python3.7/dist-packages/sklearn/svm/_base.py:947: ConvergenceWarning: Liblinear failed to converge, increase the number of iterations.\n",
            "  \"the number of iterations.\", ConvergenceWarning)\n",
            "/usr/local/lib/python3.7/dist-packages/sklearn/svm/_base.py:947: ConvergenceWarning: Liblinear failed to converge, increase the number of iterations.\n",
            "  \"the number of iterations.\", ConvergenceWarning)\n",
            "/usr/local/lib/python3.7/dist-packages/sklearn/svm/_base.py:947: ConvergenceWarning: Liblinear failed to converge, increase the number of iterations.\n",
            "  \"the number of iterations.\", ConvergenceWarning)\n",
            "/usr/local/lib/python3.7/dist-packages/sklearn/svm/_base.py:947: ConvergenceWarning: Liblinear failed to converge, increase the number of iterations.\n",
            "  \"the number of iterations.\", ConvergenceWarning)\n",
            "/usr/local/lib/python3.7/dist-packages/sklearn/svm/_base.py:947: ConvergenceWarning: Liblinear failed to converge, increase the number of iterations.\n",
            "  \"the number of iterations.\", ConvergenceWarning)\n",
            "/usr/local/lib/python3.7/dist-packages/sklearn/svm/_base.py:947: ConvergenceWarning: Liblinear failed to converge, increase the number of iterations.\n",
            "  \"the number of iterations.\", ConvergenceWarning)\n",
            "/usr/local/lib/python3.7/dist-packages/sklearn/svm/_base.py:947: ConvergenceWarning: Liblinear failed to converge, increase the number of iterations.\n",
            "  \"the number of iterations.\", ConvergenceWarning)\n",
            "/usr/local/lib/python3.7/dist-packages/sklearn/svm/_base.py:947: ConvergenceWarning: Liblinear failed to converge, increase the number of iterations.\n",
            "  \"the number of iterations.\", ConvergenceWarning)\n",
            "/usr/local/lib/python3.7/dist-packages/sklearn/svm/_base.py:947: ConvergenceWarning: Liblinear failed to converge, increase the number of iterations.\n",
            "  \"the number of iterations.\", ConvergenceWarning)\n",
            "/usr/local/lib/python3.7/dist-packages/sklearn/svm/_base.py:947: ConvergenceWarning: Liblinear failed to converge, increase the number of iterations.\n",
            "  \"the number of iterations.\", ConvergenceWarning)\n",
            "/usr/local/lib/python3.7/dist-packages/sklearn/svm/_base.py:947: ConvergenceWarning: Liblinear failed to converge, increase the number of iterations.\n",
            "  \"the number of iterations.\", ConvergenceWarning)\n",
            "/usr/local/lib/python3.7/dist-packages/sklearn/svm/_base.py:947: ConvergenceWarning: Liblinear failed to converge, increase the number of iterations.\n",
            "  \"the number of iterations.\", ConvergenceWarning)\n",
            "/usr/local/lib/python3.7/dist-packages/sklearn/svm/_base.py:947: ConvergenceWarning: Liblinear failed to converge, increase the number of iterations.\n",
            "  \"the number of iterations.\", ConvergenceWarning)\n",
            "/usr/local/lib/python3.7/dist-packages/sklearn/svm/_base.py:947: ConvergenceWarning: Liblinear failed to converge, increase the number of iterations.\n",
            "  \"the number of iterations.\", ConvergenceWarning)\n",
            "/usr/local/lib/python3.7/dist-packages/sklearn/svm/_base.py:947: ConvergenceWarning: Liblinear failed to converge, increase the number of iterations.\n",
            "  \"the number of iterations.\", ConvergenceWarning)\n",
            "/usr/local/lib/python3.7/dist-packages/sklearn/svm/_base.py:947: ConvergenceWarning: Liblinear failed to converge, increase the number of iterations.\n",
            "  \"the number of iterations.\", ConvergenceWarning)\n",
            "/usr/local/lib/python3.7/dist-packages/sklearn/svm/_base.py:947: ConvergenceWarning: Liblinear failed to converge, increase the number of iterations.\n",
            "  \"the number of iterations.\", ConvergenceWarning)\n",
            "/usr/local/lib/python3.7/dist-packages/sklearn/svm/_base.py:947: ConvergenceWarning: Liblinear failed to converge, increase the number of iterations.\n",
            "  \"the number of iterations.\", ConvergenceWarning)\n",
            "/usr/local/lib/python3.7/dist-packages/sklearn/svm/_base.py:947: ConvergenceWarning: Liblinear failed to converge, increase the number of iterations.\n",
            "  \"the number of iterations.\", ConvergenceWarning)\n",
            "/usr/local/lib/python3.7/dist-packages/sklearn/svm/_base.py:947: ConvergenceWarning: Liblinear failed to converge, increase the number of iterations.\n",
            "  \"the number of iterations.\", ConvergenceWarning)\n",
            "/usr/local/lib/python3.7/dist-packages/sklearn/svm/_base.py:947: ConvergenceWarning: Liblinear failed to converge, increase the number of iterations.\n",
            "  \"the number of iterations.\", ConvergenceWarning)\n",
            "/usr/local/lib/python3.7/dist-packages/sklearn/svm/_base.py:947: ConvergenceWarning: Liblinear failed to converge, increase the number of iterations.\n",
            "  \"the number of iterations.\", ConvergenceWarning)\n",
            "/usr/local/lib/python3.7/dist-packages/sklearn/svm/_base.py:947: ConvergenceWarning: Liblinear failed to converge, increase the number of iterations.\n",
            "  \"the number of iterations.\", ConvergenceWarning)\n",
            "/usr/local/lib/python3.7/dist-packages/sklearn/svm/_base.py:947: ConvergenceWarning: Liblinear failed to converge, increase the number of iterations.\n",
            "  \"the number of iterations.\", ConvergenceWarning)\n",
            "/usr/local/lib/python3.7/dist-packages/sklearn/svm/_base.py:947: ConvergenceWarning: Liblinear failed to converge, increase the number of iterations.\n",
            "  \"the number of iterations.\", ConvergenceWarning)\n",
            "/usr/local/lib/python3.7/dist-packages/sklearn/svm/_base.py:947: ConvergenceWarning: Liblinear failed to converge, increase the number of iterations.\n",
            "  \"the number of iterations.\", ConvergenceWarning)\n",
            "/usr/local/lib/python3.7/dist-packages/sklearn/svm/_base.py:947: ConvergenceWarning: Liblinear failed to converge, increase the number of iterations.\n",
            "  \"the number of iterations.\", ConvergenceWarning)\n"
          ]
        },
        {
          "output_type": "stream",
          "name": "stdout",
          "text": [
            "best mean cross-validation score: 0.752\n",
            "best parameters: {'linearsvc__C': 0.04832930238571752}\n"
          ]
        },
        {
          "output_type": "stream",
          "name": "stderr",
          "text": [
            "/usr/local/lib/python3.7/dist-packages/sklearn/svm/_base.py:947: ConvergenceWarning: Liblinear failed to converge, increase the number of iterations.\n",
            "  \"the number of iterations.\", ConvergenceWarning)\n",
            "/usr/local/lib/python3.7/dist-packages/sklearn/svm/_base.py:947: ConvergenceWarning: Liblinear failed to converge, increase the number of iterations.\n",
            "  \"the number of iterations.\", ConvergenceWarning)\n",
            "/usr/local/lib/python3.7/dist-packages/sklearn/svm/_base.py:947: ConvergenceWarning: Liblinear failed to converge, increase the number of iterations.\n",
            "  \"the number of iterations.\", ConvergenceWarning)\n"
          ]
        }
      ]
    },
    {
      "cell_type": "code",
      "metadata": {
        "colab": {
          "base_uri": "https://localhost:8080/"
        },
        "id": "54__JEQMIqMc",
        "outputId": "2d460c6a-afca-4517-de06-d07441334a85"
      },
      "source": [
        "# Plugging back into SVC pipeline\n",
        "preprocess_svcs = make_column_transformer(\n",
        "    (StandardScaler(), numeric_features),\n",
        "    (OneHotEncoder(), categorical_features))\n",
        "model_svcs = make_pipeline(preprocess_svcs, LinearSVC(C=0.04832930238571752))\n",
        "model_svcs.fit(X_trainval_pipe, y_trainval_pipe)\n",
        "scores_svcs = cross_val_score(model_svcs, X_trainval_pipe, y_trainval_pipe, cv=stratified_kf, scoring='accuracy')\n",
        "print(\"score: {:.3f}\".format(np.mean(scores_svcs)))\n"
      ],
      "execution_count": null,
      "outputs": [
        {
          "output_type": "stream",
          "name": "stdout",
          "text": [
            "score: 0.736\n"
          ]
        }
      ]
    },
    {
      "cell_type": "code",
      "metadata": {
        "colab": {
          "base_uri": "https://localhost:8080/"
        },
        "id": "N4a50uWjJF_n",
        "outputId": "bb4f5cbc-04cb-4aa7-bdd9-e7e6c097444d"
      },
      "source": [
        "# Logistic Regression tuning\n",
        "lr_pipe = make_pipeline(StandardScaler(), LogisticRegression())\n",
        "param_grid = {\"logisticregression__C\" : np.logspace(-4, 20, 20)}\n",
        "grid_lr = GridSearchCV(lr_pipe, param_grid, cv=stratified_kf, return_train_score=True)\n",
        "grid_lr.fit(X_trainval, y_trainval)\n",
        "print(\"best mean cross-validation score: {:.3f}\".format(grid_lr.best_score_))\n",
        "print(\"best parameters: {}\".format(grid_lr.best_params_))"
      ],
      "execution_count": null,
      "outputs": [
        {
          "output_type": "stream",
          "name": "stdout",
          "text": [
            "best mean cross-validation score: 0.751\n",
            "best parameters: {'logisticregression__C': 0.615848211066026}\n"
          ]
        }
      ]
    },
    {
      "cell_type": "code",
      "metadata": {
        "colab": {
          "base_uri": "https://localhost:8080/"
        },
        "id": "_ynu8PAeJ5Ml",
        "outputId": "d4d0038c-9001-4522-8f12-6e553dd8314b"
      },
      "source": [
        "# Plugging back into LR pipeline\n",
        "preprocess_lrs = make_column_transformer(\n",
        "    (StandardScaler(), numeric_features),\n",
        "    (OneHotEncoder(), categorical_features))\n",
        "model_lrs = make_pipeline(preprocess_lrs, LogisticRegression(C=0.615848211066026))\n",
        "model_lrs.fit(X_trainval_pipe, y_trainval_pipe)\n",
        "scores_lrs = cross_val_score(model_lrs, X_trainval_pipe, y_trainval_pipe, cv=stratified_kf, scoring='accuracy')\n",
        "print(\"score: {:.3f}\".format(np.mean(scores_lrs)))"
      ],
      "execution_count": null,
      "outputs": [
        {
          "output_type": "stream",
          "name": "stdout",
          "text": [
            "score: 0.752\n"
          ]
        }
      ]
    },
    {
      "cell_type": "markdown",
      "metadata": {
        "id": "g_8U8WTOKLqk"
      },
      "source": [
        "Performance Visualization\n"
      ]
    },
    {
      "cell_type": "code",
      "metadata": {
        "colab": {
          "base_uri": "https://localhost:8080/",
          "height": 625
        },
        "id": "EIO5JfFaKEbV",
        "outputId": "138c71de-9675-4cb4-b69a-241efd59a99b"
      },
      "source": [
        "# SVC\n",
        "svc_c_values = np.logspace(-10, 5, 20)\n",
        "svc_mean_test_scores = np.asarray(grid_svc.cv_results_['mean_test_score'])\n",
        "svc_mean_train_scores = np.asarray(grid_svc.cv_results_['mean_train_score'])\n",
        "std_test = np.asarray(grid_svc.cv_results_['std_test_score'])\n",
        "std_train = np.asarray(grid_svc.cv_results_['std_train_score'])\n",
        "\n",
        "fig, ax = plt.subplots(figsize=(15,10))\n",
        "\n",
        "ax.plot(svc_c_values, svc_mean_test_scores, label='mean_test_score')\n",
        "ax.plot(svc_c_values, svc_mean_train_scores, label='mean_train_score')\n",
        "ax.set_xscale(\"log\")\n",
        "ax.fill_between(svc_c_values, svc_mean_test_scores + std_test, svc_mean_test_scores - std_test, alpha=0.2)\n",
        "ax.fill_between(svc_c_values, svc_mean_train_scores+std_train, svc_mean_train_scores-std_train, alpha=0.2)\n",
        "\n",
        "ax.set(xlabel='C', ylabel='mean_test_scores',\n",
        "       title='SVC Test Scores for variable C')\n",
        "ax.legend(loc='upper left')\n",
        "\n",
        "plt.show()"
      ],
      "execution_count": null,
      "outputs": [
        {
          "output_type": "display_data",
          "data": {
            "image/png": "[encoded data removed]",
            "text/plain": [
              "<Figure size 1080x720 with 1 Axes>"
            ]
          },
          "metadata": {
            "needs_background": "light"
          }
        }
      ]
    },
    {
      "cell_type": "code",
      "metadata": {
        "colab": {
          "base_uri": "https://localhost:8080/",
          "height": 625
        },
        "id": "I1ualGPGLQ3q",
        "outputId": "e86e868f-d9f2-462b-9899-d1fdd713f439"
      },
      "source": [
        "# LR\n",
        "lr_cvalues = np.logspace(-4, 20, 20)\n",
        "lr_mean_test_scores = np.asarray(grid_lr.cv_results_['mean_test_score'])\n",
        "lr_mean_train_scores = np.asarray(grid_lr.cv_results_['mean_train_score'])\n",
        "std_test = np.asarray(grid_lr.cv_results_['std_test_score'])\n",
        "std_train = np.asarray(grid_lr.cv_results_['std_train_score'])\n",
        "\n",
        "fig, ax = plt.subplots(figsize=(15,10))\n",
        "\n",
        "ax.plot(lr_cvalues, lr_mean_test_scores, label='mean_test_score')\n",
        "ax.plot(lr_cvalues, lr_mean_train_scores, label='mean_train_score')\n",
        "ax.set_xscale(\"log\")\n",
        "ax.fill_between(lr_cvalues, lr_mean_test_scores + std_test, lr_mean_test_scores - std_test, alpha=0.2)\n",
        "ax.fill_between(lr_cvalues, lr_mean_train_scores+std_train, lr_mean_train_scores-std_train, alpha=0.2)\n",
        "\n",
        "ax.set(xlabel='C', ylabel='mean_test_scores',\n",
        "       title='Logistic Regression Test Scores for variable C')\n",
        "ax.legend(loc='upper left')\n",
        "\n",
        "plt.show()"
      ],
      "execution_count": null,
      "outputs": [
        {
          "output_type": "display_data",
          "data": {
            "image/png": "[encoded data removed]",
            "text/plain": [
              "<Figure size 1080x720 with 1 Axes>"
            ]
          },
          "metadata": {
            "needs_background": "light"
          }
        }
      ]
    },
    {
      "cell_type": "code",
      "metadata": {
        "colab": {
          "base_uri": "https://localhost:8080/",
          "height": 625
        },
        "id": "Q-AhOnu5Myr2",
        "outputId": "8ec5a28b-ea75-4f48-9646-bc7e58b32f01"
      },
      "source": [
        "# KNN\n",
        "knn_c_values = range(10, 20)\n",
        "knn_mean_test_scores = np.asarray(grid.cv_results_['mean_test_score'])\n",
        "knn_mean_train_scores = np.asarray(grid.cv_results_['mean_train_score'])\n",
        "std_test = np.asarray(grid.cv_results_['std_test_score'])\n",
        "std_train = np.asarray(grid.cv_results_['std_train_score'])\n",
        "\n",
        "fig, ax = plt.subplots(figsize=(15,10))\n",
        "\n",
        "ax.plot(knn_c_values, knn_mean_test_scores, label='mean_test_score')\n",
        "ax.plot(knn_c_values, knn_mean_train_scores, label='mean_train_score')\n",
        "ax.set_xscale(\"log\")\n",
        "ax.fill_between(knn_c_values, knn_mean_test_scores + std_test, knn_mean_test_scores - std_test, alpha=0.2, label='test standard deviation')\n",
        "ax.fill_between(knn_c_values, knn_mean_train_scores+std_train, knn_mean_train_scores-std_train, alpha=0.2, label='training standard deviation')\n",
        "\n",
        "ax.set(xlabel='C', ylabel='mean_test_scores',\n",
        "       title='SVC Test Scores for variable C')\n",
        "ax.legend(loc='upper left')\n",
        "\n",
        "plt.show()"
      ],
      "execution_count": null,
      "outputs": [
        {
          "output_type": "display_data",
          "data": {
            "image/png": "[encoded data removed]",
            "text/plain": [
              "<Figure size 1080x720 with 1 Axes>"
            ]
          },
          "metadata": {
            "needs_background": "light"
          }
        }
      ]
    },
    {
      "cell_type": "markdown",
      "metadata": {
        "id": "y0AN6EyTOpFo"
      },
      "source": [
        "Shift from stratified K-fold to K-fold\n"
      ]
    },
    {
      "cell_type": "code",
      "metadata": {
        "id": "w96yjyvEOuxJ"
      },
      "source": [
        "kfold1 = KFold(n_splits=5, shuffle=True, random_state=0)\n",
        "kfold2 = KFold(n_splits=5, shuffle=True, random_state=1)"
      ],
      "execution_count": null,
      "outputs": []
    },
    {
      "cell_type": "code",
      "metadata": {
        "colab": {
          "base_uri": "https://localhost:8080/"
        },
        "id": "6TamYBX1O-DM",
        "outputId": "3cc4e2b7-dd49-4149-d322-ec3a0e7c4e51"
      },
      "source": [
        "# LR \n",
        "lr_pipe = make_pipeline(StandardScaler(), LogisticRegression(C=0.615848211066026))\n",
        "param_grid = {\"logisticregression__C\" : np.logspace(-4, 20, 20)}\n",
        "grid_lr = GridSearchCV(lr_pipe, param_grid, cv=stratified_kf, return_train_score=True)\n",
        "grid_lr.fit(X_trainval, y_trainval)\n",
        "print(\"best mean cross-validation score: {:.3f}\".format(grid_lr.best_score_))\n",
        "print(\"best parameters: {}\".format(grid_lr.best_params_))\n",
        "\n",
        "grid_lrk1 = GridSearchCV(lr_pipe, param_grid, cv=kfold1, return_train_score=True)\n",
        "grid_lrk1.fit(X_trainval, y_trainval)\n",
        "print(\"best mean cross-validation score: {:.3f}\".format(grid_lrk1.best_score_))\n",
        "print(\"best parameters: {}\".format(grid_lrk1.best_params_))\n",
        "\n",
        "grid_lrk2 = GridSearchCV(lr_pipe, param_grid, cv=kfold2, return_train_score=True)\n",
        "grid_lrk2.fit(X_trainval, y_trainval)\n",
        "print(\"best mean cross-validation score: {:.3f}\".format(grid_lrk2.best_score_))\n",
        "print(\"best parameters: {}\".format(grid_lrk2.best_params_))"
      ],
      "execution_count": null,
      "outputs": [
        {
          "output_type": "stream",
          "name": "stdout",
          "text": [
            "best mean cross-validation score: 0.759\n",
            "best parameters: {'logisticregression__C': 11.288378916846883}\n",
            "best mean cross-validation score: 0.759\n",
            "best parameters: {'logisticregression__C': 11.288378916846883}\n",
            "best mean cross-validation score: 0.753\n",
            "best parameters: {'logisticregression__C': 0.615848211066026}\n"
          ]
        }
      ]
    },
    {
      "cell_type": "code",
      "metadata": {
        "colab": {
          "base_uri": "https://localhost:8080/"
        },
        "id": "RIbMZYl3Plnh",
        "outputId": "65d313d8-2deb-40d6-f351-d5cf9aad69b0"
      },
      "source": [
        "# SVC\n",
        "svc_pipe = make_pipeline(StandardScaler(), LinearSVC(C=0.04832930238571752))\n",
        "param_grid = {\"linearsvc__C\" : np.logspace(-10, 5, 20)}\n",
        "grid_svc = GridSearchCV(svc_pipe, param_grid, cv=stratified_kf, return_train_score=True)\n",
        "grid_svc.fit(X_trainval, y_trainval)\n",
        "print(\"best mean cross-validation score: {:.3f}\".format(grid_svc.best_score_))\n",
        "print(\"best parameters: {}\".format(grid_svc.best_params_))\n",
        "\n",
        "grid_svck1 = GridSearchCV(svc_pipe, param_grid, cv=kfold1, return_train_score=True)\n",
        "grid_svck1.fit(X_trainval, y_trainval)\n",
        "print(\"best mean cross-validation score: {:.3f}\".format(grid_svck1.best_score_))\n",
        "print(\"best parameters: {}\".format(grid_svck1.best_params_))\n",
        "\n",
        "grid_svck2 = GridSearchCV(svc_pipe, param_grid, cv=kfold2, return_train_score=True)\n",
        "grid_svck2.fit(X_trainval, y_trainval)\n",
        "print(\"best mean cross-validation score: {:.3f}\".format(grid_svck2.best_score_))\n",
        "print(\"best parameters: {}\".format(grid_svck2.best_params_))"
      ],
      "execution_count": null,
      "outputs": [
        {
          "output_type": "stream",
          "name": "stderr",
          "text": [
            "/usr/local/lib/python3.7/dist-packages/sklearn/svm/_base.py:947: ConvergenceWarning: Liblinear failed to converge, increase the number of iterations.\n",
            "  \"the number of iterations.\", ConvergenceWarning)\n",
            "/usr/local/lib/python3.7/dist-packages/sklearn/svm/_base.py:947: ConvergenceWarning: Liblinear failed to converge, increase the number of iterations.\n",
            "  \"the number of iterations.\", ConvergenceWarning)\n",
            "/usr/local/lib/python3.7/dist-packages/sklearn/svm/_base.py:947: ConvergenceWarning: Liblinear failed to converge, increase the number of iterations.\n",
            "  \"the number of iterations.\", ConvergenceWarning)\n",
            "/usr/local/lib/python3.7/dist-packages/sklearn/svm/_base.py:947: ConvergenceWarning: Liblinear failed to converge, increase the number of iterations.\n",
            "  \"the number of iterations.\", ConvergenceWarning)\n",
            "/usr/local/lib/python3.7/dist-packages/sklearn/svm/_base.py:947: ConvergenceWarning: Liblinear failed to converge, increase the number of iterations.\n",
            "  \"the number of iterations.\", ConvergenceWarning)\n",
            "/usr/local/lib/python3.7/dist-packages/sklearn/svm/_base.py:947: ConvergenceWarning: Liblinear failed to converge, increase the number of iterations.\n",
            "  \"the number of iterations.\", ConvergenceWarning)\n",
            "/usr/local/lib/python3.7/dist-packages/sklearn/svm/_base.py:947: ConvergenceWarning: Liblinear failed to converge, increase the number of iterations.\n",
            "  \"the number of iterations.\", ConvergenceWarning)\n",
            "/usr/local/lib/python3.7/dist-packages/sklearn/svm/_base.py:947: ConvergenceWarning: Liblinear failed to converge, increase the number of iterations.\n",
            "  \"the number of iterations.\", ConvergenceWarning)\n",
            "/usr/local/lib/python3.7/dist-packages/sklearn/svm/_base.py:947: ConvergenceWarning: Liblinear failed to converge, increase the number of iterations.\n",
            "  \"the number of iterations.\", ConvergenceWarning)\n",
            "/usr/local/lib/python3.7/dist-packages/sklearn/svm/_base.py:947: ConvergenceWarning: Liblinear failed to converge, increase the number of iterations.\n",
            "  \"the number of iterations.\", ConvergenceWarning)\n",
            "/usr/local/lib/python3.7/dist-packages/sklearn/svm/_base.py:947: ConvergenceWarning: Liblinear failed to converge, increase the number of iterations.\n",
            "  \"the number of iterations.\", ConvergenceWarning)\n",
            "/usr/local/lib/python3.7/dist-packages/sklearn/svm/_base.py:947: ConvergenceWarning: Liblinear failed to converge, increase the number of iterations.\n",
            "  \"the number of iterations.\", ConvergenceWarning)\n",
            "/usr/local/lib/python3.7/dist-packages/sklearn/svm/_base.py:947: ConvergenceWarning: Liblinear failed to converge, increase the number of iterations.\n",
            "  \"the number of iterations.\", ConvergenceWarning)\n",
            "/usr/local/lib/python3.7/dist-packages/sklearn/svm/_base.py:947: ConvergenceWarning: Liblinear failed to converge, increase the number of iterations.\n",
            "  \"the number of iterations.\", ConvergenceWarning)\n",
            "/usr/local/lib/python3.7/dist-packages/sklearn/svm/_base.py:947: ConvergenceWarning: Liblinear failed to converge, increase the number of iterations.\n",
            "  \"the number of iterations.\", ConvergenceWarning)\n",
            "/usr/local/lib/python3.7/dist-packages/sklearn/svm/_base.py:947: ConvergenceWarning: Liblinear failed to converge, increase the number of iterations.\n",
            "  \"the number of iterations.\", ConvergenceWarning)\n",
            "/usr/local/lib/python3.7/dist-packages/sklearn/svm/_base.py:947: ConvergenceWarning: Liblinear failed to converge, increase the number of iterations.\n",
            "  \"the number of iterations.\", ConvergenceWarning)\n",
            "/usr/local/lib/python3.7/dist-packages/sklearn/svm/_base.py:947: ConvergenceWarning: Liblinear failed to converge, increase the number of iterations.\n",
            "  \"the number of iterations.\", ConvergenceWarning)\n",
            "/usr/local/lib/python3.7/dist-packages/sklearn/svm/_base.py:947: ConvergenceWarning: Liblinear failed to converge, increase the number of iterations.\n",
            "  \"the number of iterations.\", ConvergenceWarning)\n",
            "/usr/local/lib/python3.7/dist-packages/sklearn/svm/_base.py:947: ConvergenceWarning: Liblinear failed to converge, increase the number of iterations.\n",
            "  \"the number of iterations.\", ConvergenceWarning)\n",
            "/usr/local/lib/python3.7/dist-packages/sklearn/svm/_base.py:947: ConvergenceWarning: Liblinear failed to converge, increase the number of iterations.\n",
            "  \"the number of iterations.\", ConvergenceWarning)\n",
            "/usr/local/lib/python3.7/dist-packages/sklearn/svm/_base.py:947: ConvergenceWarning: Liblinear failed to converge, increase the number of iterations.\n",
            "  \"the number of iterations.\", ConvergenceWarning)\n",
            "/usr/local/lib/python3.7/dist-packages/sklearn/svm/_base.py:947: ConvergenceWarning: Liblinear failed to converge, increase the number of iterations.\n",
            "  \"the number of iterations.\", ConvergenceWarning)\n",
            "/usr/local/lib/python3.7/dist-packages/sklearn/svm/_base.py:947: ConvergenceWarning: Liblinear failed to converge, increase the number of iterations.\n",
            "  \"the number of iterations.\", ConvergenceWarning)\n",
            "/usr/local/lib/python3.7/dist-packages/sklearn/svm/_base.py:947: ConvergenceWarning: Liblinear failed to converge, increase the number of iterations.\n",
            "  \"the number of iterations.\", ConvergenceWarning)\n",
            "/usr/local/lib/python3.7/dist-packages/sklearn/svm/_base.py:947: ConvergenceWarning: Liblinear failed to converge, increase the number of iterations.\n",
            "  \"the number of iterations.\", ConvergenceWarning)\n",
            "/usr/local/lib/python3.7/dist-packages/sklearn/svm/_base.py:947: ConvergenceWarning: Liblinear failed to converge, increase the number of iterations.\n",
            "  \"the number of iterations.\", ConvergenceWarning)\n",
            "/usr/local/lib/python3.7/dist-packages/sklearn/svm/_base.py:947: ConvergenceWarning: Liblinear failed to converge, increase the number of iterations.\n",
            "  \"the number of iterations.\", ConvergenceWarning)\n",
            "/usr/local/lib/python3.7/dist-packages/sklearn/svm/_base.py:947: ConvergenceWarning: Liblinear failed to converge, increase the number of iterations.\n",
            "  \"the number of iterations.\", ConvergenceWarning)\n",
            "/usr/local/lib/python3.7/dist-packages/sklearn/svm/_base.py:947: ConvergenceWarning: Liblinear failed to converge, increase the number of iterations.\n",
            "  \"the number of iterations.\", ConvergenceWarning)\n",
            "/usr/local/lib/python3.7/dist-packages/sklearn/svm/_base.py:947: ConvergenceWarning: Liblinear failed to converge, increase the number of iterations.\n",
            "  \"the number of iterations.\", ConvergenceWarning)\n",
            "/usr/local/lib/python3.7/dist-packages/sklearn/svm/_base.py:947: ConvergenceWarning: Liblinear failed to converge, increase the number of iterations.\n",
            "  \"the number of iterations.\", ConvergenceWarning)\n",
            "/usr/local/lib/python3.7/dist-packages/sklearn/svm/_base.py:947: ConvergenceWarning: Liblinear failed to converge, increase the number of iterations.\n",
            "  \"the number of iterations.\", ConvergenceWarning)\n",
            "/usr/local/lib/python3.7/dist-packages/sklearn/svm/_base.py:947: ConvergenceWarning: Liblinear failed to converge, increase the number of iterations.\n",
            "  \"the number of iterations.\", ConvergenceWarning)\n",
            "/usr/local/lib/python3.7/dist-packages/sklearn/svm/_base.py:947: ConvergenceWarning: Liblinear failed to converge, increase the number of iterations.\n",
            "  \"the number of iterations.\", ConvergenceWarning)\n"
          ]
        },
        {
          "output_type": "stream",
          "name": "stdout",
          "text": [
            "best mean cross-validation score: 0.759\n",
            "best parameters: {'linearsvc__C': 0.00020691380811147902}\n"
          ]
        },
        {
          "output_type": "stream",
          "name": "stderr",
          "text": [
            "/usr/local/lib/python3.7/dist-packages/sklearn/svm/_base.py:947: ConvergenceWarning: Liblinear failed to converge, increase the number of iterations.\n",
            "  \"the number of iterations.\", ConvergenceWarning)\n",
            "/usr/local/lib/python3.7/dist-packages/sklearn/svm/_base.py:947: ConvergenceWarning: Liblinear failed to converge, increase the number of iterations.\n",
            "  \"the number of iterations.\", ConvergenceWarning)\n",
            "/usr/local/lib/python3.7/dist-packages/sklearn/svm/_base.py:947: ConvergenceWarning: Liblinear failed to converge, increase the number of iterations.\n",
            "  \"the number of iterations.\", ConvergenceWarning)\n",
            "/usr/local/lib/python3.7/dist-packages/sklearn/svm/_base.py:947: ConvergenceWarning: Liblinear failed to converge, increase the number of iterations.\n",
            "  \"the number of iterations.\", ConvergenceWarning)\n",
            "/usr/local/lib/python3.7/dist-packages/sklearn/svm/_base.py:947: ConvergenceWarning: Liblinear failed to converge, increase the number of iterations.\n",
            "  \"the number of iterations.\", ConvergenceWarning)\n",
            "/usr/local/lib/python3.7/dist-packages/sklearn/svm/_base.py:947: ConvergenceWarning: Liblinear failed to converge, increase the number of iterations.\n",
            "  \"the number of iterations.\", ConvergenceWarning)\n",
            "/usr/local/lib/python3.7/dist-packages/sklearn/svm/_base.py:947: ConvergenceWarning: Liblinear failed to converge, increase the number of iterations.\n",
            "  \"the number of iterations.\", ConvergenceWarning)\n",
            "/usr/local/lib/python3.7/dist-packages/sklearn/svm/_base.py:947: ConvergenceWarning: Liblinear failed to converge, increase the number of iterations.\n",
            "  \"the number of iterations.\", ConvergenceWarning)\n",
            "/usr/local/lib/python3.7/dist-packages/sklearn/svm/_base.py:947: ConvergenceWarning: Liblinear failed to converge, increase the number of iterations.\n",
            "  \"the number of iterations.\", ConvergenceWarning)\n",
            "/usr/local/lib/python3.7/dist-packages/sklearn/svm/_base.py:947: ConvergenceWarning: Liblinear failed to converge, increase the number of iterations.\n",
            "  \"the number of iterations.\", ConvergenceWarning)\n",
            "/usr/local/lib/python3.7/dist-packages/sklearn/svm/_base.py:947: ConvergenceWarning: Liblinear failed to converge, increase the number of iterations.\n",
            "  \"the number of iterations.\", ConvergenceWarning)\n",
            "/usr/local/lib/python3.7/dist-packages/sklearn/svm/_base.py:947: ConvergenceWarning: Liblinear failed to converge, increase the number of iterations.\n",
            "  \"the number of iterations.\", ConvergenceWarning)\n",
            "/usr/local/lib/python3.7/dist-packages/sklearn/svm/_base.py:947: ConvergenceWarning: Liblinear failed to converge, increase the number of iterations.\n",
            "  \"the number of iterations.\", ConvergenceWarning)\n",
            "/usr/local/lib/python3.7/dist-packages/sklearn/svm/_base.py:947: ConvergenceWarning: Liblinear failed to converge, increase the number of iterations.\n",
            "  \"the number of iterations.\", ConvergenceWarning)\n",
            "/usr/local/lib/python3.7/dist-packages/sklearn/svm/_base.py:947: ConvergenceWarning: Liblinear failed to converge, increase the number of iterations.\n",
            "  \"the number of iterations.\", ConvergenceWarning)\n",
            "/usr/local/lib/python3.7/dist-packages/sklearn/svm/_base.py:947: ConvergenceWarning: Liblinear failed to converge, increase the number of iterations.\n",
            "  \"the number of iterations.\", ConvergenceWarning)\n",
            "/usr/local/lib/python3.7/dist-packages/sklearn/svm/_base.py:947: ConvergenceWarning: Liblinear failed to converge, increase the number of iterations.\n",
            "  \"the number of iterations.\", ConvergenceWarning)\n",
            "/usr/local/lib/python3.7/dist-packages/sklearn/svm/_base.py:947: ConvergenceWarning: Liblinear failed to converge, increase the number of iterations.\n",
            "  \"the number of iterations.\", ConvergenceWarning)\n",
            "/usr/local/lib/python3.7/dist-packages/sklearn/svm/_base.py:947: ConvergenceWarning: Liblinear failed to converge, increase the number of iterations.\n",
            "  \"the number of iterations.\", ConvergenceWarning)\n",
            "/usr/local/lib/python3.7/dist-packages/sklearn/svm/_base.py:947: ConvergenceWarning: Liblinear failed to converge, increase the number of iterations.\n",
            "  \"the number of iterations.\", ConvergenceWarning)\n",
            "/usr/local/lib/python3.7/dist-packages/sklearn/svm/_base.py:947: ConvergenceWarning: Liblinear failed to converge, increase the number of iterations.\n",
            "  \"the number of iterations.\", ConvergenceWarning)\n",
            "/usr/local/lib/python3.7/dist-packages/sklearn/svm/_base.py:947: ConvergenceWarning: Liblinear failed to converge, increase the number of iterations.\n",
            "  \"the number of iterations.\", ConvergenceWarning)\n",
            "/usr/local/lib/python3.7/dist-packages/sklearn/svm/_base.py:947: ConvergenceWarning: Liblinear failed to converge, increase the number of iterations.\n",
            "  \"the number of iterations.\", ConvergenceWarning)\n",
            "/usr/local/lib/python3.7/dist-packages/sklearn/svm/_base.py:947: ConvergenceWarning: Liblinear failed to converge, increase the number of iterations.\n",
            "  \"the number of iterations.\", ConvergenceWarning)\n",
            "/usr/local/lib/python3.7/dist-packages/sklearn/svm/_base.py:947: ConvergenceWarning: Liblinear failed to converge, increase the number of iterations.\n",
            "  \"the number of iterations.\", ConvergenceWarning)\n",
            "/usr/local/lib/python3.7/dist-packages/sklearn/svm/_base.py:947: ConvergenceWarning: Liblinear failed to converge, increase the number of iterations.\n",
            "  \"the number of iterations.\", ConvergenceWarning)\n",
            "/usr/local/lib/python3.7/dist-packages/sklearn/svm/_base.py:947: ConvergenceWarning: Liblinear failed to converge, increase the number of iterations.\n",
            "  \"the number of iterations.\", ConvergenceWarning)\n",
            "/usr/local/lib/python3.7/dist-packages/sklearn/svm/_base.py:947: ConvergenceWarning: Liblinear failed to converge, increase the number of iterations.\n",
            "  \"the number of iterations.\", ConvergenceWarning)\n",
            "/usr/local/lib/python3.7/dist-packages/sklearn/svm/_base.py:947: ConvergenceWarning: Liblinear failed to converge, increase the number of iterations.\n",
            "  \"the number of iterations.\", ConvergenceWarning)\n",
            "/usr/local/lib/python3.7/dist-packages/sklearn/svm/_base.py:947: ConvergenceWarning: Liblinear failed to converge, increase the number of iterations.\n",
            "  \"the number of iterations.\", ConvergenceWarning)\n",
            "/usr/local/lib/python3.7/dist-packages/sklearn/svm/_base.py:947: ConvergenceWarning: Liblinear failed to converge, increase the number of iterations.\n",
            "  \"the number of iterations.\", ConvergenceWarning)\n",
            "/usr/local/lib/python3.7/dist-packages/sklearn/svm/_base.py:947: ConvergenceWarning: Liblinear failed to converge, increase the number of iterations.\n",
            "  \"the number of iterations.\", ConvergenceWarning)\n",
            "/usr/local/lib/python3.7/dist-packages/sklearn/svm/_base.py:947: ConvergenceWarning: Liblinear failed to converge, increase the number of iterations.\n",
            "  \"the number of iterations.\", ConvergenceWarning)\n",
            "/usr/local/lib/python3.7/dist-packages/sklearn/svm/_base.py:947: ConvergenceWarning: Liblinear failed to converge, increase the number of iterations.\n",
            "  \"the number of iterations.\", ConvergenceWarning)\n",
            "/usr/local/lib/python3.7/dist-packages/sklearn/svm/_base.py:947: ConvergenceWarning: Liblinear failed to converge, increase the number of iterations.\n",
            "  \"the number of iterations.\", ConvergenceWarning)\n"
          ]
        },
        {
          "output_type": "stream",
          "name": "stdout",
          "text": [
            "best mean cross-validation score: 0.767\n",
            "best parameters: {'linearsvc__C': 0.007847599703514624}\n"
          ]
        },
        {
          "output_type": "stream",
          "name": "stderr",
          "text": [
            "/usr/local/lib/python3.7/dist-packages/sklearn/svm/_base.py:947: ConvergenceWarning: Liblinear failed to converge, increase the number of iterations.\n",
            "  \"the number of iterations.\", ConvergenceWarning)\n",
            "/usr/local/lib/python3.7/dist-packages/sklearn/svm/_base.py:947: ConvergenceWarning: Liblinear failed to converge, increase the number of iterations.\n",
            "  \"the number of iterations.\", ConvergenceWarning)\n",
            "/usr/local/lib/python3.7/dist-packages/sklearn/svm/_base.py:947: ConvergenceWarning: Liblinear failed to converge, increase the number of iterations.\n",
            "  \"the number of iterations.\", ConvergenceWarning)\n",
            "/usr/local/lib/python3.7/dist-packages/sklearn/svm/_base.py:947: ConvergenceWarning: Liblinear failed to converge, increase the number of iterations.\n",
            "  \"the number of iterations.\", ConvergenceWarning)\n",
            "/usr/local/lib/python3.7/dist-packages/sklearn/svm/_base.py:947: ConvergenceWarning: Liblinear failed to converge, increase the number of iterations.\n",
            "  \"the number of iterations.\", ConvergenceWarning)\n",
            "/usr/local/lib/python3.7/dist-packages/sklearn/svm/_base.py:947: ConvergenceWarning: Liblinear failed to converge, increase the number of iterations.\n",
            "  \"the number of iterations.\", ConvergenceWarning)\n",
            "/usr/local/lib/python3.7/dist-packages/sklearn/svm/_base.py:947: ConvergenceWarning: Liblinear failed to converge, increase the number of iterations.\n",
            "  \"the number of iterations.\", ConvergenceWarning)\n",
            "/usr/local/lib/python3.7/dist-packages/sklearn/svm/_base.py:947: ConvergenceWarning: Liblinear failed to converge, increase the number of iterations.\n",
            "  \"the number of iterations.\", ConvergenceWarning)\n",
            "/usr/local/lib/python3.7/dist-packages/sklearn/svm/_base.py:947: ConvergenceWarning: Liblinear failed to converge, increase the number of iterations.\n",
            "  \"the number of iterations.\", ConvergenceWarning)\n",
            "/usr/local/lib/python3.7/dist-packages/sklearn/svm/_base.py:947: ConvergenceWarning: Liblinear failed to converge, increase the number of iterations.\n",
            "  \"the number of iterations.\", ConvergenceWarning)\n",
            "/usr/local/lib/python3.7/dist-packages/sklearn/svm/_base.py:947: ConvergenceWarning: Liblinear failed to converge, increase the number of iterations.\n",
            "  \"the number of iterations.\", ConvergenceWarning)\n",
            "/usr/local/lib/python3.7/dist-packages/sklearn/svm/_base.py:947: ConvergenceWarning: Liblinear failed to converge, increase the number of iterations.\n",
            "  \"the number of iterations.\", ConvergenceWarning)\n",
            "/usr/local/lib/python3.7/dist-packages/sklearn/svm/_base.py:947: ConvergenceWarning: Liblinear failed to converge, increase the number of iterations.\n",
            "  \"the number of iterations.\", ConvergenceWarning)\n",
            "/usr/local/lib/python3.7/dist-packages/sklearn/svm/_base.py:947: ConvergenceWarning: Liblinear failed to converge, increase the number of iterations.\n",
            "  \"the number of iterations.\", ConvergenceWarning)\n",
            "/usr/local/lib/python3.7/dist-packages/sklearn/svm/_base.py:947: ConvergenceWarning: Liblinear failed to converge, increase the number of iterations.\n",
            "  \"the number of iterations.\", ConvergenceWarning)\n",
            "/usr/local/lib/python3.7/dist-packages/sklearn/svm/_base.py:947: ConvergenceWarning: Liblinear failed to converge, increase the number of iterations.\n",
            "  \"the number of iterations.\", ConvergenceWarning)\n",
            "/usr/local/lib/python3.7/dist-packages/sklearn/svm/_base.py:947: ConvergenceWarning: Liblinear failed to converge, increase the number of iterations.\n",
            "  \"the number of iterations.\", ConvergenceWarning)\n",
            "/usr/local/lib/python3.7/dist-packages/sklearn/svm/_base.py:947: ConvergenceWarning: Liblinear failed to converge, increase the number of iterations.\n",
            "  \"the number of iterations.\", ConvergenceWarning)\n",
            "/usr/local/lib/python3.7/dist-packages/sklearn/svm/_base.py:947: ConvergenceWarning: Liblinear failed to converge, increase the number of iterations.\n",
            "  \"the number of iterations.\", ConvergenceWarning)\n",
            "/usr/local/lib/python3.7/dist-packages/sklearn/svm/_base.py:947: ConvergenceWarning: Liblinear failed to converge, increase the number of iterations.\n",
            "  \"the number of iterations.\", ConvergenceWarning)\n",
            "/usr/local/lib/python3.7/dist-packages/sklearn/svm/_base.py:947: ConvergenceWarning: Liblinear failed to converge, increase the number of iterations.\n",
            "  \"the number of iterations.\", ConvergenceWarning)\n",
            "/usr/local/lib/python3.7/dist-packages/sklearn/svm/_base.py:947: ConvergenceWarning: Liblinear failed to converge, increase the number of iterations.\n",
            "  \"the number of iterations.\", ConvergenceWarning)\n",
            "/usr/local/lib/python3.7/dist-packages/sklearn/svm/_base.py:947: ConvergenceWarning: Liblinear failed to converge, increase the number of iterations.\n",
            "  \"the number of iterations.\", ConvergenceWarning)\n",
            "/usr/local/lib/python3.7/dist-packages/sklearn/svm/_base.py:947: ConvergenceWarning: Liblinear failed to converge, increase the number of iterations.\n",
            "  \"the number of iterations.\", ConvergenceWarning)\n",
            "/usr/local/lib/python3.7/dist-packages/sklearn/svm/_base.py:947: ConvergenceWarning: Liblinear failed to converge, increase the number of iterations.\n",
            "  \"the number of iterations.\", ConvergenceWarning)\n",
            "/usr/local/lib/python3.7/dist-packages/sklearn/svm/_base.py:947: ConvergenceWarning: Liblinear failed to converge, increase the number of iterations.\n",
            "  \"the number of iterations.\", ConvergenceWarning)\n",
            "/usr/local/lib/python3.7/dist-packages/sklearn/svm/_base.py:947: ConvergenceWarning: Liblinear failed to converge, increase the number of iterations.\n",
            "  \"the number of iterations.\", ConvergenceWarning)\n",
            "/usr/local/lib/python3.7/dist-packages/sklearn/svm/_base.py:947: ConvergenceWarning: Liblinear failed to converge, increase the number of iterations.\n",
            "  \"the number of iterations.\", ConvergenceWarning)\n",
            "/usr/local/lib/python3.7/dist-packages/sklearn/svm/_base.py:947: ConvergenceWarning: Liblinear failed to converge, increase the number of iterations.\n",
            "  \"the number of iterations.\", ConvergenceWarning)\n",
            "/usr/local/lib/python3.7/dist-packages/sklearn/svm/_base.py:947: ConvergenceWarning: Liblinear failed to converge, increase the number of iterations.\n",
            "  \"the number of iterations.\", ConvergenceWarning)\n",
            "/usr/local/lib/python3.7/dist-packages/sklearn/svm/_base.py:947: ConvergenceWarning: Liblinear failed to converge, increase the number of iterations.\n",
            "  \"the number of iterations.\", ConvergenceWarning)\n",
            "/usr/local/lib/python3.7/dist-packages/sklearn/svm/_base.py:947: ConvergenceWarning: Liblinear failed to converge, increase the number of iterations.\n",
            "  \"the number of iterations.\", ConvergenceWarning)\n",
            "/usr/local/lib/python3.7/dist-packages/sklearn/svm/_base.py:947: ConvergenceWarning: Liblinear failed to converge, increase the number of iterations.\n",
            "  \"the number of iterations.\", ConvergenceWarning)\n"
          ]
        },
        {
          "output_type": "stream",
          "name": "stdout",
          "text": [
            "best mean cross-validation score: 0.756\n",
            "best parameters: {'linearsvc__C': 0.04832930238571752}\n"
          ]
        },
        {
          "output_type": "stream",
          "name": "stderr",
          "text": [
            "/usr/local/lib/python3.7/dist-packages/sklearn/svm/_base.py:947: ConvergenceWarning: Liblinear failed to converge, increase the number of iterations.\n",
            "  \"the number of iterations.\", ConvergenceWarning)\n",
            "/usr/local/lib/python3.7/dist-packages/sklearn/svm/_base.py:947: ConvergenceWarning: Liblinear failed to converge, increase the number of iterations.\n",
            "  \"the number of iterations.\", ConvergenceWarning)\n"
          ]
        }
      ]
    },
    {
      "cell_type": "code",
      "metadata": {
        "colab": {
          "base_uri": "https://localhost:8080/"
        },
        "id": "1uTg_3BbQA9L",
        "outputId": "32b0a3b7-9b9d-48fb-fa34-9e39c65badc9"
      },
      "source": [
        "# KNN\n",
        "knn_pipe = make_pipeline(StandardScaler(), KNeighborsClassifier(n_neighbors=10))\n",
        "param_grid = {'kneighborsclassifier__n_neighbors': range(10, 20)}\n",
        "\n",
        "grid_knn = GridSearchCV(knn_pipe, param_grid, cv=stratified_kf, return_train_score=True)\n",
        "grid_knn.fit(X_trainval, y_trainval)\n",
        "print(\"best mean cross-validation score: {:.3f}\".format(grid_knn.best_score_))\n",
        "print(\"best parameters: {}\".format(grid_knn.best_params_))\n",
        "\n",
        "grid_knnk1 = GridSearchCV(knn_pipe, param_grid, cv=kfold1, return_train_score=True)\n",
        "grid_knnk1.fit(X_trainval, y_trainval)\n",
        "print(\"best mean cross-validation score: {:.3f}\".format(grid_knnk1.best_score_))\n",
        "print(\"best parameters: {}\".format(grid_knnk1.best_params_))\n",
        "\n",
        "grid_knnk2 = GridSearchCV(knn_pipe, param_grid, cv=kfold2, return_train_score=True)\n",
        "grid_knnk2.fit(X_trainval, y_trainval)\n",
        "print(\"best mean cross-validation score: {:.3f}\".format(grid_knnk2.best_score_))\n",
        "print(\"best parameters: {}\".format(grid_knnk2.best_params_))"
      ],
      "execution_count": null,
      "outputs": [
        {
          "output_type": "stream",
          "name": "stdout",
          "text": [
            "best mean cross-validation score: 0.724\n",
            "best parameters: {'kneighborsclassifier__n_neighbors': 19}\n",
            "best mean cross-validation score: 0.740\n",
            "best parameters: {'kneighborsclassifier__n_neighbors': 15}\n",
            "best mean cross-validation score: 0.731\n",
            "best parameters: {'kneighborsclassifier__n_neighbors': 13}\n"
          ]
        }
      ]
    },
    {
      "cell_type": "markdown",
      "metadata": {
        "id": "WQw4zslpTDgB"
      },
      "source": [
        "Creating new test and training split\n"
      ]
    },
    {
      "cell_type": "code",
      "metadata": {
        "id": "dm4pgAlFTGjj"
      },
      "source": [
        "X_trainval16, X_test16, y_trainval16, y_test16 = train_test_split(c_dataX_ordinal, y, random_state=10)"
      ],
      "execution_count": null,
      "outputs": []
    },
    {
      "cell_type": "code",
      "metadata": {
        "colab": {
          "base_uri": "https://localhost:8080/"
        },
        "id": "C_aaIK6eTSvI",
        "outputId": "fb324df4-f90d-4350-df0a-fbcb02f1c336"
      },
      "source": [
        "# LR\n",
        "lr_pipe = make_pipeline(StandardScaler(), LogisticRegression(C=0.03359818286283781))\n",
        "param_grid = {\"logisticregression__C\" : np.logspace(-4, 20, 20)}\n",
        "grid_lr = GridSearchCV(lr_pipe, param_grid, cv=stratified_kf, return_train_score=True)\n",
        "grid_lr.fit(X_trainval16, y_trainval16)\n",
        "print(\"best mean cross-validation score for Logistic regression Stratified K-Fold: {:.3f}\".format(grid_lr.best_score_))\n",
        "print(\"best parameters: {}\".format(grid_lr.best_params_))\n",
        "\n",
        "grid_lrk1 = GridSearchCV(lr_pipe, param_grid, cv=kfold1, return_train_score=True)\n",
        "grid_lrk1.fit(X_trainval16, y_trainval16)\n",
        "print(\"best mean cross-validation score for Logistic regression K-fold with random state 0: {:.3f}\".format(grid_lrk1.best_score_))\n",
        "print(\"best parameters: {}\".format(grid_lrk1.best_params_))\n",
        "\n",
        "grid_lrk2 = GridSearchCV(lr_pipe, param_grid, cv=kfold2, return_train_score=True)\n",
        "grid_lrk2.fit(X_trainval16, y_trainval16)\n",
        "print(\"best mean cross-validation score for Logistic regression K-fold with random state 1: {:.3f}\".format(grid_lrk2.best_score_))\n",
        "print(\"best parameters: {}\".format(grid_lrk2.best_params_))\n",
        "\n",
        "#SVC\n",
        "svc_pipe = make_pipeline(StandardScaler(), LinearSVC(C=0.04832930238571752))\n",
        "param_grid = {\"linearsvc__C\" : np.logspace(-10, 5, 20)}\n",
        "grid_svc = GridSearchCV(svc_pipe, param_grid, cv=stratified_kf, return_train_score=True)\n",
        "grid_svc.fit(X_trainval16, y_trainval16)\n",
        "print(\"best mean cross-validation score SVC Stratified K-Fold: {:.3f}\".format(grid_svc.best_score_))\n",
        "print(\"best parameters: {}\".format(grid_svc.best_params_))\n",
        "\n",
        "grid_svck1 = GridSearchCV(svc_pipe, param_grid, cv=kfold1, return_train_score=True)\n",
        "grid_svck1.fit(X_trainval16, y_trainval16)\n",
        "print(\"best mean cross-validation score SVC K-fold with random state 0: {:.3f}\".format(grid_svck1.best_score_))\n",
        "print(\"best parameters: {}\".format(grid_svck1.best_params_))\n",
        "\n",
        "grid_svck2 = GridSearchCV(svc_pipe, param_grid, cv=kfold2, return_train_score=True)\n",
        "grid_svck2.fit(X_trainval16, y_trainval16)\n",
        "print(\"best mean cross-validation score SVC K-fold with random state 1: {:.3f}\".format(grid_svck2.best_score_))\n",
        "print(\"best parameters: {}\".format(grid_svck2.best_params_))\n",
        "\n",
        "\n",
        "# KNN\n",
        "knn_pipe = make_pipeline(StandardScaler(), KNeighborsClassifier(n_neighbors=12))\n",
        "param_grid = {'kneighborsclassifier__n_neighbors': range(10, 20)}\n",
        "\n",
        "grid_knn = GridSearchCV(knn_pipe, param_grid, cv=stratified_kf, return_train_score=True)\n",
        "grid_knn.fit(X_trainval16, y_trainval16)\n",
        "print(\"best mean cross-validation score for KNN Stratified K-Fold: {:.3f}\".format(grid_knn.best_score_))\n",
        "print(\"best parameters: {}\".format(grid_knn.best_params_))\n",
        "\n",
        "grid_knnk1 = GridSearchCV(knn_pipe, param_grid, cv=kfold1, return_train_score=True)\n",
        "grid_knnk1.fit(X_trainval16, y_trainval16)\n",
        "print(\"best mean cross-validation score for KNN K-fold with random state 0: {:.3f}\".format(grid_knnk1.best_score_))\n",
        "print(\"best parameters: {}\".format(grid_knnk1.best_params_))\n",
        "\n",
        "grid_knnk2 = GridSearchCV(knn_pipe, param_grid, cv=kfold2, return_train_score=True)\n",
        "grid_knnk2.fit(X_trainval16, y_trainval16)\n",
        "print(\"best mean cross-validation score for KNN K-fold with random state 1: {:.3f}\".format(grid_knnk2.best_score_))\n",
        "print(\"best parameters: {}\".format(grid_knnk2.best_params_))"
      ],
      "execution_count": null,
      "outputs": [
        {
          "output_type": "stream",
          "name": "stdout",
          "text": [
            "best mean cross-validation score for Logistic regression Stratified K-Fold: 0.757\n",
            "best parameters: {'logisticregression__C': 0.615848211066026}\n",
            "best mean cross-validation score for Logistic regression K-fold with random state 0: 0.756\n",
            "best parameters: {'logisticregression__C': 0.03359818286283781}\n",
            "best mean cross-validation score for Logistic regression K-fold with random state 1: 0.761\n",
            "best parameters: {'logisticregression__C': 11.288378916846883}\n"
          ]
        },
        {
          "output_type": "stream",
          "name": "stderr",
          "text": [
            "/usr/local/lib/python3.7/dist-packages/sklearn/svm/_base.py:947: ConvergenceWarning: Liblinear failed to converge, increase the number of iterations.\n",
            "  \"the number of iterations.\", ConvergenceWarning)\n",
            "/usr/local/lib/python3.7/dist-packages/sklearn/svm/_base.py:947: ConvergenceWarning: Liblinear failed to converge, increase the number of iterations.\n",
            "  \"the number of iterations.\", ConvergenceWarning)\n",
            "/usr/local/lib/python3.7/dist-packages/sklearn/svm/_base.py:947: ConvergenceWarning: Liblinear failed to converge, increase the number of iterations.\n",
            "  \"the number of iterations.\", ConvergenceWarning)\n",
            "/usr/local/lib/python3.7/dist-packages/sklearn/svm/_base.py:947: ConvergenceWarning: Liblinear failed to converge, increase the number of iterations.\n",
            "  \"the number of iterations.\", ConvergenceWarning)\n",
            "/usr/local/lib/python3.7/dist-packages/sklearn/svm/_base.py:947: ConvergenceWarning: Liblinear failed to converge, increase the number of iterations.\n",
            "  \"the number of iterations.\", ConvergenceWarning)\n",
            "/usr/local/lib/python3.7/dist-packages/sklearn/svm/_base.py:947: ConvergenceWarning: Liblinear failed to converge, increase the number of iterations.\n",
            "  \"the number of iterations.\", ConvergenceWarning)\n",
            "/usr/local/lib/python3.7/dist-packages/sklearn/svm/_base.py:947: ConvergenceWarning: Liblinear failed to converge, increase the number of iterations.\n",
            "  \"the number of iterations.\", ConvergenceWarning)\n",
            "/usr/local/lib/python3.7/dist-packages/sklearn/svm/_base.py:947: ConvergenceWarning: Liblinear failed to converge, increase the number of iterations.\n",
            "  \"the number of iterations.\", ConvergenceWarning)\n",
            "/usr/local/lib/python3.7/dist-packages/sklearn/svm/_base.py:947: ConvergenceWarning: Liblinear failed to converge, increase the number of iterations.\n",
            "  \"the number of iterations.\", ConvergenceWarning)\n",
            "/usr/local/lib/python3.7/dist-packages/sklearn/svm/_base.py:947: ConvergenceWarning: Liblinear failed to converge, increase the number of iterations.\n",
            "  \"the number of iterations.\", ConvergenceWarning)\n",
            "/usr/local/lib/python3.7/dist-packages/sklearn/svm/_base.py:947: ConvergenceWarning: Liblinear failed to converge, increase the number of iterations.\n",
            "  \"the number of iterations.\", ConvergenceWarning)\n",
            "/usr/local/lib/python3.7/dist-packages/sklearn/svm/_base.py:947: ConvergenceWarning: Liblinear failed to converge, increase the number of iterations.\n",
            "  \"the number of iterations.\", ConvergenceWarning)\n",
            "/usr/local/lib/python3.7/dist-packages/sklearn/svm/_base.py:947: ConvergenceWarning: Liblinear failed to converge, increase the number of iterations.\n",
            "  \"the number of iterations.\", ConvergenceWarning)\n",
            "/usr/local/lib/python3.7/dist-packages/sklearn/svm/_base.py:947: ConvergenceWarning: Liblinear failed to converge, increase the number of iterations.\n",
            "  \"the number of iterations.\", ConvergenceWarning)\n",
            "/usr/local/lib/python3.7/dist-packages/sklearn/svm/_base.py:947: ConvergenceWarning: Liblinear failed to converge, increase the number of iterations.\n",
            "  \"the number of iterations.\", ConvergenceWarning)\n",
            "/usr/local/lib/python3.7/dist-packages/sklearn/svm/_base.py:947: ConvergenceWarning: Liblinear failed to converge, increase the number of iterations.\n",
            "  \"the number of iterations.\", ConvergenceWarning)\n",
            "/usr/local/lib/python3.7/dist-packages/sklearn/svm/_base.py:947: ConvergenceWarning: Liblinear failed to converge, increase the number of iterations.\n",
            "  \"the number of iterations.\", ConvergenceWarning)\n",
            "/usr/local/lib/python3.7/dist-packages/sklearn/svm/_base.py:947: ConvergenceWarning: Liblinear failed to converge, increase the number of iterations.\n",
            "  \"the number of iterations.\", ConvergenceWarning)\n",
            "/usr/local/lib/python3.7/dist-packages/sklearn/svm/_base.py:947: ConvergenceWarning: Liblinear failed to converge, increase the number of iterations.\n",
            "  \"the number of iterations.\", ConvergenceWarning)\n",
            "/usr/local/lib/python3.7/dist-packages/sklearn/svm/_base.py:947: ConvergenceWarning: Liblinear failed to converge, increase the number of iterations.\n",
            "  \"the number of iterations.\", ConvergenceWarning)\n",
            "/usr/local/lib/python3.7/dist-packages/sklearn/svm/_base.py:947: ConvergenceWarning: Liblinear failed to converge, increase the number of iterations.\n",
            "  \"the number of iterations.\", ConvergenceWarning)\n",
            "/usr/local/lib/python3.7/dist-packages/sklearn/svm/_base.py:947: ConvergenceWarning: Liblinear failed to converge, increase the number of iterations.\n",
            "  \"the number of iterations.\", ConvergenceWarning)\n",
            "/usr/local/lib/python3.7/dist-packages/sklearn/svm/_base.py:947: ConvergenceWarning: Liblinear failed to converge, increase the number of iterations.\n",
            "  \"the number of iterations.\", ConvergenceWarning)\n",
            "/usr/local/lib/python3.7/dist-packages/sklearn/svm/_base.py:947: ConvergenceWarning: Liblinear failed to converge, increase the number of iterations.\n",
            "  \"the number of iterations.\", ConvergenceWarning)\n",
            "/usr/local/lib/python3.7/dist-packages/sklearn/svm/_base.py:947: ConvergenceWarning: Liblinear failed to converge, increase the number of iterations.\n",
            "  \"the number of iterations.\", ConvergenceWarning)\n",
            "/usr/local/lib/python3.7/dist-packages/sklearn/svm/_base.py:947: ConvergenceWarning: Liblinear failed to converge, increase the number of iterations.\n",
            "  \"the number of iterations.\", ConvergenceWarning)\n",
            "/usr/local/lib/python3.7/dist-packages/sklearn/svm/_base.py:947: ConvergenceWarning: Liblinear failed to converge, increase the number of iterations.\n",
            "  \"the number of iterations.\", ConvergenceWarning)\n",
            "/usr/local/lib/python3.7/dist-packages/sklearn/svm/_base.py:947: ConvergenceWarning: Liblinear failed to converge, increase the number of iterations.\n",
            "  \"the number of iterations.\", ConvergenceWarning)\n",
            "/usr/local/lib/python3.7/dist-packages/sklearn/svm/_base.py:947: ConvergenceWarning: Liblinear failed to converge, increase the number of iterations.\n",
            "  \"the number of iterations.\", ConvergenceWarning)\n",
            "/usr/local/lib/python3.7/dist-packages/sklearn/svm/_base.py:947: ConvergenceWarning: Liblinear failed to converge, increase the number of iterations.\n",
            "  \"the number of iterations.\", ConvergenceWarning)\n",
            "/usr/local/lib/python3.7/dist-packages/sklearn/svm/_base.py:947: ConvergenceWarning: Liblinear failed to converge, increase the number of iterations.\n",
            "  \"the number of iterations.\", ConvergenceWarning)\n",
            "/usr/local/lib/python3.7/dist-packages/sklearn/svm/_base.py:947: ConvergenceWarning: Liblinear failed to converge, increase the number of iterations.\n",
            "  \"the number of iterations.\", ConvergenceWarning)\n",
            "/usr/local/lib/python3.7/dist-packages/sklearn/svm/_base.py:947: ConvergenceWarning: Liblinear failed to converge, increase the number of iterations.\n",
            "  \"the number of iterations.\", ConvergenceWarning)\n",
            "/usr/local/lib/python3.7/dist-packages/sklearn/svm/_base.py:947: ConvergenceWarning: Liblinear failed to converge, increase the number of iterations.\n",
            "  \"the number of iterations.\", ConvergenceWarning)\n",
            "/usr/local/lib/python3.7/dist-packages/sklearn/svm/_base.py:947: ConvergenceWarning: Liblinear failed to converge, increase the number of iterations.\n",
            "  \"the number of iterations.\", ConvergenceWarning)\n",
            "/usr/local/lib/python3.7/dist-packages/sklearn/svm/_base.py:947: ConvergenceWarning: Liblinear failed to converge, increase the number of iterations.\n",
            "  \"the number of iterations.\", ConvergenceWarning)\n"
          ]
        },
        {
          "output_type": "stream",
          "name": "stdout",
          "text": [
            "best mean cross-validation score SVC Stratified K-Fold: 0.752\n",
            "best parameters: {'linearsvc__C': 11.288378916846883}\n"
          ]
        },
        {
          "output_type": "stream",
          "name": "stderr",
          "text": [
            "/usr/local/lib/python3.7/dist-packages/sklearn/svm/_base.py:947: ConvergenceWarning: Liblinear failed to converge, increase the number of iterations.\n",
            "  \"the number of iterations.\", ConvergenceWarning)\n",
            "/usr/local/lib/python3.7/dist-packages/sklearn/svm/_base.py:947: ConvergenceWarning: Liblinear failed to converge, increase the number of iterations.\n",
            "  \"the number of iterations.\", ConvergenceWarning)\n",
            "/usr/local/lib/python3.7/dist-packages/sklearn/svm/_base.py:947: ConvergenceWarning: Liblinear failed to converge, increase the number of iterations.\n",
            "  \"the number of iterations.\", ConvergenceWarning)\n",
            "/usr/local/lib/python3.7/dist-packages/sklearn/svm/_base.py:947: ConvergenceWarning: Liblinear failed to converge, increase the number of iterations.\n",
            "  \"the number of iterations.\", ConvergenceWarning)\n",
            "/usr/local/lib/python3.7/dist-packages/sklearn/svm/_base.py:947: ConvergenceWarning: Liblinear failed to converge, increase the number of iterations.\n",
            "  \"the number of iterations.\", ConvergenceWarning)\n",
            "/usr/local/lib/python3.7/dist-packages/sklearn/svm/_base.py:947: ConvergenceWarning: Liblinear failed to converge, increase the number of iterations.\n",
            "  \"the number of iterations.\", ConvergenceWarning)\n",
            "/usr/local/lib/python3.7/dist-packages/sklearn/svm/_base.py:947: ConvergenceWarning: Liblinear failed to converge, increase the number of iterations.\n",
            "  \"the number of iterations.\", ConvergenceWarning)\n",
            "/usr/local/lib/python3.7/dist-packages/sklearn/svm/_base.py:947: ConvergenceWarning: Liblinear failed to converge, increase the number of iterations.\n",
            "  \"the number of iterations.\", ConvergenceWarning)\n",
            "/usr/local/lib/python3.7/dist-packages/sklearn/svm/_base.py:947: ConvergenceWarning: Liblinear failed to converge, increase the number of iterations.\n",
            "  \"the number of iterations.\", ConvergenceWarning)\n",
            "/usr/local/lib/python3.7/dist-packages/sklearn/svm/_base.py:947: ConvergenceWarning: Liblinear failed to converge, increase the number of iterations.\n",
            "  \"the number of iterations.\", ConvergenceWarning)\n",
            "/usr/local/lib/python3.7/dist-packages/sklearn/svm/_base.py:947: ConvergenceWarning: Liblinear failed to converge, increase the number of iterations.\n",
            "  \"the number of iterations.\", ConvergenceWarning)\n",
            "/usr/local/lib/python3.7/dist-packages/sklearn/svm/_base.py:947: ConvergenceWarning: Liblinear failed to converge, increase the number of iterations.\n",
            "  \"the number of iterations.\", ConvergenceWarning)\n",
            "/usr/local/lib/python3.7/dist-packages/sklearn/svm/_base.py:947: ConvergenceWarning: Liblinear failed to converge, increase the number of iterations.\n",
            "  \"the number of iterations.\", ConvergenceWarning)\n",
            "/usr/local/lib/python3.7/dist-packages/sklearn/svm/_base.py:947: ConvergenceWarning: Liblinear failed to converge, increase the number of iterations.\n",
            "  \"the number of iterations.\", ConvergenceWarning)\n",
            "/usr/local/lib/python3.7/dist-packages/sklearn/svm/_base.py:947: ConvergenceWarning: Liblinear failed to converge, increase the number of iterations.\n",
            "  \"the number of iterations.\", ConvergenceWarning)\n",
            "/usr/local/lib/python3.7/dist-packages/sklearn/svm/_base.py:947: ConvergenceWarning: Liblinear failed to converge, increase the number of iterations.\n",
            "  \"the number of iterations.\", ConvergenceWarning)\n",
            "/usr/local/lib/python3.7/dist-packages/sklearn/svm/_base.py:947: ConvergenceWarning: Liblinear failed to converge, increase the number of iterations.\n",
            "  \"the number of iterations.\", ConvergenceWarning)\n",
            "/usr/local/lib/python3.7/dist-packages/sklearn/svm/_base.py:947: ConvergenceWarning: Liblinear failed to converge, increase the number of iterations.\n",
            "  \"the number of iterations.\", ConvergenceWarning)\n",
            "/usr/local/lib/python3.7/dist-packages/sklearn/svm/_base.py:947: ConvergenceWarning: Liblinear failed to converge, increase the number of iterations.\n",
            "  \"the number of iterations.\", ConvergenceWarning)\n",
            "/usr/local/lib/python3.7/dist-packages/sklearn/svm/_base.py:947: ConvergenceWarning: Liblinear failed to converge, increase the number of iterations.\n",
            "  \"the number of iterations.\", ConvergenceWarning)\n",
            "/usr/local/lib/python3.7/dist-packages/sklearn/svm/_base.py:947: ConvergenceWarning: Liblinear failed to converge, increase the number of iterations.\n",
            "  \"the number of iterations.\", ConvergenceWarning)\n",
            "/usr/local/lib/python3.7/dist-packages/sklearn/svm/_base.py:947: ConvergenceWarning: Liblinear failed to converge, increase the number of iterations.\n",
            "  \"the number of iterations.\", ConvergenceWarning)\n",
            "/usr/local/lib/python3.7/dist-packages/sklearn/svm/_base.py:947: ConvergenceWarning: Liblinear failed to converge, increase the number of iterations.\n",
            "  \"the number of iterations.\", ConvergenceWarning)\n",
            "/usr/local/lib/python3.7/dist-packages/sklearn/svm/_base.py:947: ConvergenceWarning: Liblinear failed to converge, increase the number of iterations.\n",
            "  \"the number of iterations.\", ConvergenceWarning)\n",
            "/usr/local/lib/python3.7/dist-packages/sklearn/svm/_base.py:947: ConvergenceWarning: Liblinear failed to converge, increase the number of iterations.\n",
            "  \"the number of iterations.\", ConvergenceWarning)\n",
            "/usr/local/lib/python3.7/dist-packages/sklearn/svm/_base.py:947: ConvergenceWarning: Liblinear failed to converge, increase the number of iterations.\n",
            "  \"the number of iterations.\", ConvergenceWarning)\n",
            "/usr/local/lib/python3.7/dist-packages/sklearn/svm/_base.py:947: ConvergenceWarning: Liblinear failed to converge, increase the number of iterations.\n",
            "  \"the number of iterations.\", ConvergenceWarning)\n",
            "/usr/local/lib/python3.7/dist-packages/sklearn/svm/_base.py:947: ConvergenceWarning: Liblinear failed to converge, increase the number of iterations.\n",
            "  \"the number of iterations.\", ConvergenceWarning)\n",
            "/usr/local/lib/python3.7/dist-packages/sklearn/svm/_base.py:947: ConvergenceWarning: Liblinear failed to converge, increase the number of iterations.\n",
            "  \"the number of iterations.\", ConvergenceWarning)\n",
            "/usr/local/lib/python3.7/dist-packages/sklearn/svm/_base.py:947: ConvergenceWarning: Liblinear failed to converge, increase the number of iterations.\n",
            "  \"the number of iterations.\", ConvergenceWarning)\n",
            "/usr/local/lib/python3.7/dist-packages/sklearn/svm/_base.py:947: ConvergenceWarning: Liblinear failed to converge, increase the number of iterations.\n",
            "  \"the number of iterations.\", ConvergenceWarning)\n",
            "/usr/local/lib/python3.7/dist-packages/sklearn/svm/_base.py:947: ConvergenceWarning: Liblinear failed to converge, increase the number of iterations.\n",
            "  \"the number of iterations.\", ConvergenceWarning)\n",
            "/usr/local/lib/python3.7/dist-packages/sklearn/svm/_base.py:947: ConvergenceWarning: Liblinear failed to converge, increase the number of iterations.\n",
            "  \"the number of iterations.\", ConvergenceWarning)\n",
            "/usr/local/lib/python3.7/dist-packages/sklearn/svm/_base.py:947: ConvergenceWarning: Liblinear failed to converge, increase the number of iterations.\n",
            "  \"the number of iterations.\", ConvergenceWarning)\n",
            "/usr/local/lib/python3.7/dist-packages/sklearn/svm/_base.py:947: ConvergenceWarning: Liblinear failed to converge, increase the number of iterations.\n",
            "  \"the number of iterations.\", ConvergenceWarning)\n",
            "/usr/local/lib/python3.7/dist-packages/sklearn/svm/_base.py:947: ConvergenceWarning: Liblinear failed to converge, increase the number of iterations.\n",
            "  \"the number of iterations.\", ConvergenceWarning)\n"
          ]
        },
        {
          "output_type": "stream",
          "name": "stdout",
          "text": [
            "best mean cross-validation score SVC K-fold with random state 0: 0.760\n",
            "best parameters: {'linearsvc__C': 11.288378916846883}\n"
          ]
        },
        {
          "output_type": "stream",
          "name": "stderr",
          "text": [
            "/usr/local/lib/python3.7/dist-packages/sklearn/svm/_base.py:947: ConvergenceWarning: Liblinear failed to converge, increase the number of iterations.\n",
            "  \"the number of iterations.\", ConvergenceWarning)\n",
            "/usr/local/lib/python3.7/dist-packages/sklearn/svm/_base.py:947: ConvergenceWarning: Liblinear failed to converge, increase the number of iterations.\n",
            "  \"the number of iterations.\", ConvergenceWarning)\n",
            "/usr/local/lib/python3.7/dist-packages/sklearn/svm/_base.py:947: ConvergenceWarning: Liblinear failed to converge, increase the number of iterations.\n",
            "  \"the number of iterations.\", ConvergenceWarning)\n",
            "/usr/local/lib/python3.7/dist-packages/sklearn/svm/_base.py:947: ConvergenceWarning: Liblinear failed to converge, increase the number of iterations.\n",
            "  \"the number of iterations.\", ConvergenceWarning)\n",
            "/usr/local/lib/python3.7/dist-packages/sklearn/svm/_base.py:947: ConvergenceWarning: Liblinear failed to converge, increase the number of iterations.\n",
            "  \"the number of iterations.\", ConvergenceWarning)\n",
            "/usr/local/lib/python3.7/dist-packages/sklearn/svm/_base.py:947: ConvergenceWarning: Liblinear failed to converge, increase the number of iterations.\n",
            "  \"the number of iterations.\", ConvergenceWarning)\n",
            "/usr/local/lib/python3.7/dist-packages/sklearn/svm/_base.py:947: ConvergenceWarning: Liblinear failed to converge, increase the number of iterations.\n",
            "  \"the number of iterations.\", ConvergenceWarning)\n",
            "/usr/local/lib/python3.7/dist-packages/sklearn/svm/_base.py:947: ConvergenceWarning: Liblinear failed to converge, increase the number of iterations.\n",
            "  \"the number of iterations.\", ConvergenceWarning)\n",
            "/usr/local/lib/python3.7/dist-packages/sklearn/svm/_base.py:947: ConvergenceWarning: Liblinear failed to converge, increase the number of iterations.\n",
            "  \"the number of iterations.\", ConvergenceWarning)\n",
            "/usr/local/lib/python3.7/dist-packages/sklearn/svm/_base.py:947: ConvergenceWarning: Liblinear failed to converge, increase the number of iterations.\n",
            "  \"the number of iterations.\", ConvergenceWarning)\n",
            "/usr/local/lib/python3.7/dist-packages/sklearn/svm/_base.py:947: ConvergenceWarning: Liblinear failed to converge, increase the number of iterations.\n",
            "  \"the number of iterations.\", ConvergenceWarning)\n",
            "/usr/local/lib/python3.7/dist-packages/sklearn/svm/_base.py:947: ConvergenceWarning: Liblinear failed to converge, increase the number of iterations.\n",
            "  \"the number of iterations.\", ConvergenceWarning)\n",
            "/usr/local/lib/python3.7/dist-packages/sklearn/svm/_base.py:947: ConvergenceWarning: Liblinear failed to converge, increase the number of iterations.\n",
            "  \"the number of iterations.\", ConvergenceWarning)\n",
            "/usr/local/lib/python3.7/dist-packages/sklearn/svm/_base.py:947: ConvergenceWarning: Liblinear failed to converge, increase the number of iterations.\n",
            "  \"the number of iterations.\", ConvergenceWarning)\n",
            "/usr/local/lib/python3.7/dist-packages/sklearn/svm/_base.py:947: ConvergenceWarning: Liblinear failed to converge, increase the number of iterations.\n",
            "  \"the number of iterations.\", ConvergenceWarning)\n",
            "/usr/local/lib/python3.7/dist-packages/sklearn/svm/_base.py:947: ConvergenceWarning: Liblinear failed to converge, increase the number of iterations.\n",
            "  \"the number of iterations.\", ConvergenceWarning)\n",
            "/usr/local/lib/python3.7/dist-packages/sklearn/svm/_base.py:947: ConvergenceWarning: Liblinear failed to converge, increase the number of iterations.\n",
            "  \"the number of iterations.\", ConvergenceWarning)\n",
            "/usr/local/lib/python3.7/dist-packages/sklearn/svm/_base.py:947: ConvergenceWarning: Liblinear failed to converge, increase the number of iterations.\n",
            "  \"the number of iterations.\", ConvergenceWarning)\n",
            "/usr/local/lib/python3.7/dist-packages/sklearn/svm/_base.py:947: ConvergenceWarning: Liblinear failed to converge, increase the number of iterations.\n",
            "  \"the number of iterations.\", ConvergenceWarning)\n",
            "/usr/local/lib/python3.7/dist-packages/sklearn/svm/_base.py:947: ConvergenceWarning: Liblinear failed to converge, increase the number of iterations.\n",
            "  \"the number of iterations.\", ConvergenceWarning)\n",
            "/usr/local/lib/python3.7/dist-packages/sklearn/svm/_base.py:947: ConvergenceWarning: Liblinear failed to converge, increase the number of iterations.\n",
            "  \"the number of iterations.\", ConvergenceWarning)\n",
            "/usr/local/lib/python3.7/dist-packages/sklearn/svm/_base.py:947: ConvergenceWarning: Liblinear failed to converge, increase the number of iterations.\n",
            "  \"the number of iterations.\", ConvergenceWarning)\n",
            "/usr/local/lib/python3.7/dist-packages/sklearn/svm/_base.py:947: ConvergenceWarning: Liblinear failed to converge, increase the number of iterations.\n",
            "  \"the number of iterations.\", ConvergenceWarning)\n",
            "/usr/local/lib/python3.7/dist-packages/sklearn/svm/_base.py:947: ConvergenceWarning: Liblinear failed to converge, increase the number of iterations.\n",
            "  \"the number of iterations.\", ConvergenceWarning)\n",
            "/usr/local/lib/python3.7/dist-packages/sklearn/svm/_base.py:947: ConvergenceWarning: Liblinear failed to converge, increase the number of iterations.\n",
            "  \"the number of iterations.\", ConvergenceWarning)\n",
            "/usr/local/lib/python3.7/dist-packages/sklearn/svm/_base.py:947: ConvergenceWarning: Liblinear failed to converge, increase the number of iterations.\n",
            "  \"the number of iterations.\", ConvergenceWarning)\n",
            "/usr/local/lib/python3.7/dist-packages/sklearn/svm/_base.py:947: ConvergenceWarning: Liblinear failed to converge, increase the number of iterations.\n",
            "  \"the number of iterations.\", ConvergenceWarning)\n",
            "/usr/local/lib/python3.7/dist-packages/sklearn/svm/_base.py:947: ConvergenceWarning: Liblinear failed to converge, increase the number of iterations.\n",
            "  \"the number of iterations.\", ConvergenceWarning)\n",
            "/usr/local/lib/python3.7/dist-packages/sklearn/svm/_base.py:947: ConvergenceWarning: Liblinear failed to converge, increase the number of iterations.\n",
            "  \"the number of iterations.\", ConvergenceWarning)\n",
            "/usr/local/lib/python3.7/dist-packages/sklearn/svm/_base.py:947: ConvergenceWarning: Liblinear failed to converge, increase the number of iterations.\n",
            "  \"the number of iterations.\", ConvergenceWarning)\n",
            "/usr/local/lib/python3.7/dist-packages/sklearn/svm/_base.py:947: ConvergenceWarning: Liblinear failed to converge, increase the number of iterations.\n",
            "  \"the number of iterations.\", ConvergenceWarning)\n",
            "/usr/local/lib/python3.7/dist-packages/sklearn/svm/_base.py:947: ConvergenceWarning: Liblinear failed to converge, increase the number of iterations.\n",
            "  \"the number of iterations.\", ConvergenceWarning)\n",
            "/usr/local/lib/python3.7/dist-packages/sklearn/svm/_base.py:947: ConvergenceWarning: Liblinear failed to converge, increase the number of iterations.\n",
            "  \"the number of iterations.\", ConvergenceWarning)\n",
            "/usr/local/lib/python3.7/dist-packages/sklearn/svm/_base.py:947: ConvergenceWarning: Liblinear failed to converge, increase the number of iterations.\n",
            "  \"the number of iterations.\", ConvergenceWarning)\n",
            "/usr/local/lib/python3.7/dist-packages/sklearn/svm/_base.py:947: ConvergenceWarning: Liblinear failed to converge, increase the number of iterations.\n",
            "  \"the number of iterations.\", ConvergenceWarning)\n"
          ]
        },
        {
          "output_type": "stream",
          "name": "stdout",
          "text": [
            "best mean cross-validation score SVC K-fold with random state 1: 0.763\n",
            "best parameters: {'linearsvc__C': 0.007847599703514624}\n",
            "best mean cross-validation score for KNN Stratified K-Fold: 0.757\n",
            "best parameters: {'kneighborsclassifier__n_neighbors': 10}\n",
            "best mean cross-validation score for KNN K-fold with random state 0: 0.759\n",
            "best parameters: {'kneighborsclassifier__n_neighbors': 10}\n",
            "best mean cross-validation score for KNN K-fold with random state 1: 0.747\n",
            "best parameters: {'kneighborsclassifier__n_neighbors': 12}\n"
          ]
        }
      ]
    },
    {
      "cell_type": "markdown",
      "metadata": {
        "id": "3ijUg3xqUFSz"
      },
      "source": [
        "Performance plotting of best coefficients for LR\n",
        "\n"
      ]
    },
    {
      "cell_type": "code",
      "metadata": {
        "id": "_eG8wpa_UIdC"
      },
      "source": [
        "categorical_fe = c_dataX[categorical_features]\n",
        "enc = OneHotEncoder()\n",
        "enc.fit_transform(categorical_fe)\n",
        "encoded_categories = list(enc.get_feature_names(categorical_features))\n",
        "all_features = numeric_features + encoded_categories"
      ],
      "execution_count": null,
      "outputs": []
    },
    {
      "cell_type": "code",
      "metadata": {
        "id": "TLjohjE1UPct"
      },
      "source": [
        "plr = make_column_transformer(\n",
        "    (StandardScaler(), numeric_features),\n",
        "    (OneHotEncoder(), categorical_features))\n",
        "mlr = make_pipeline(plr, LogisticRegression(C=0.03359818286283781))\n",
        "mlr.fit(X_trainval_pipe, y_trainval_pipe)\n",
        "coefficients = mlr.steps[1][1].coef_"
      ],
      "execution_count": null,
      "outputs": []
    },
    {
      "cell_type": "code",
      "metadata": {
        "id": "FDc0tcUNUUEc"
      },
      "source": [
        "# Coversion of the above array into an array of tuples\n",
        "coeff_tuples = []\n",
        "for index, coeff in enumerate(coefficients[0]):\n",
        "  coeff_tuples.append((index, coeff))\n",
        "sorted_tuples = sorted(coeff_tuples, key = lambda x: x[1])"
      ],
      "execution_count": null,
      "outputs": []
    },
    {
      "cell_type": "code",
      "metadata": {
        "id": "Dr-s7wwWUdm1"
      },
      "source": [
        "best_coeff = sorted_tuples[-20:]\n",
        "indices = [ tup[0] for tup in best_coeff ]\n",
        "coeffs = [tup[1] for tup in best_coeff]\n",
        "feature_names = []\n",
        "for index in indices:\n",
        "  feature_names.append(all_features[index])"
      ],
      "execution_count": null,
      "outputs": []
    },
    {
      "cell_type": "code",
      "metadata": {
        "colab": {
          "base_uri": "https://localhost:8080/",
          "height": 634
        },
        "id": "F7xLmm6bUli9",
        "outputId": "73c3ce78-fa81-4bb0-cf13-f04d8fc7b711"
      },
      "source": [
        "coeffs = [tup[1] for tup in best_coeff]\n",
        "\n",
        "plt.figure(figsize=(20,15))\n",
        "ax11 = plt.subplot(2, 2, 1)\n",
        "ax11.set_xlabel('Feature names')\n",
        "ax11.set_ylabel('coefficient')\n",
        "ax11.scatter(feature_names, coeffs, c=np.sign(coeffs), cmap='bwr_r')\n",
        "plt.xticks(rotation=90)\n",
        "plt.show()"
      ],
      "execution_count": null,
      "outputs": [
        {
          "output_type": "display_data",
          "data": {
            "image/png": "[encoded data removed]",
            "text/plain": [
              "<Figure size 1440x1080 with 1 Axes>"
            ]
          },
          "metadata": {
            "needs_background": "light"
          }
        }
      ]
    },
    {
      "cell_type": "markdown",
      "metadata": {
        "id": "c2B9PqF_U0ZN"
      },
      "source": [
        "Performance plotting of best coefficients for SVC\n"
      ]
    },
    {
      "cell_type": "code",
      "metadata": {
        "id": "NAzhb-BAUo4y"
      },
      "source": [
        "preprocess_svcs = make_column_transformer(\n",
        "    (StandardScaler(), numeric_features),\n",
        "    (OneHotEncoder(), categorical_features))\n",
        "model_svcs = make_pipeline(preprocess_svcs, LinearSVC(C=0.04832930238571752))\n",
        "model_svcs.fit(X_trainval_pipe, y_trainval_pipe)\n",
        "scores_svcs = cross_val_score(model_svcs, X_trainval_pipe, y_trainval_pipe, cv=stratified_kf, scoring='accuracy')\n",
        "coefficients = model_svcs.steps[1][1].coef_"
      ],
      "execution_count": null,
      "outputs": []
    },
    {
      "cell_type": "code",
      "metadata": {
        "id": "auYoYPJrVJCW"
      },
      "source": [
        "coeff_tuples = []\n",
        "for index, coeff in enumerate(coefficients[0]):\n",
        "  coeff_tuples.append((index, coeff))\n",
        "sorted_tuples = sorted(coeff_tuples, key = lambda x: x[1])\n",
        "best_coeff = sorted_tuples[-20:]\n",
        "indices = [ tup[0] for tup in best_coeff ]\n",
        "coeffs = [tup[1] for tup in best_coeff]\n",
        "feature_names = []\n",
        "for index in indices:\n",
        "  feature_names.append(all_features[index])"
      ],
      "execution_count": null,
      "outputs": []
    },
    {
      "cell_type": "code",
      "metadata": {
        "colab": {
          "base_uri": "https://localhost:8080/",
          "height": 634
        },
        "id": "WMYBS3gpVLoA",
        "outputId": "ec4f9832-a282-48d6-a956-94c5b5d0407c"
      },
      "source": [
        "plt.figure(figsize=(20,15))\n",
        "ax11 = plt.subplot(2, 2, 1)\n",
        "ax11.set_xlabel('Feature names')\n",
        "ax11.set_ylabel('coefficient')\n",
        "ax11.scatter(feature_names, coeffs, c=np.sign(coeffs), cmap='bwr_r')\n",
        "plt.xticks(rotation=90)\n",
        "plt.show()"
      ],
      "execution_count": null,
      "outputs": [
        {
          "output_type": "display_data",
          "data": {
            "image/png": "[encoded data removed]",
            "text/plain": [
              "<Figure size 1440x1080 with 1 Axes>"
            ]
          },
          "metadata": {
            "needs_background": "light"
          }
        }
      ]
    }
  ]
}